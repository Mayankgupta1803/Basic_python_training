{
 "cells": [
  {
   "cell_type": "code",
   "execution_count": null,
   "metadata": {
    "id": "Xo6JTE02ab4q"
   },
   "outputs": [],
   "source": [
    "#oop :- object oriented programming in python"
   ]
  },
  {
   "cell_type": "code",
   "execution_count": null,
   "metadata": {
    "id": "fE3isdcPbtFj"
   },
   "outputs": [],
   "source": [
    "# # # there is something called as class and object.\n",
    "# # # class :- is an description of the object or it is the overall summary of what the features and attributes of a object are\n",
    "# # #       It is known as the blueprint of the object.\n",
    "\n",
    "# # object:- it is an instance of the class or a prototype of the functions and variable defined in the class.\n",
    "# #           it has all the behaviors and functions defined inside the class above.\n",
    "\n",
    "\n",
    "# class object inheritance encapsulation polymorphism abstraction"
   ]
  },
  {
   "cell_type": "code",
   "execution_count": null,
   "metadata": {
    "id": "JD5jGASadLYa"
   },
   "outputs": [],
   "source": [
    "class Parrot:\n",
    "  species=\"bird\"             #class variable  or static variable   :- common to all object . changing for one will change for all\n",
    "\n",
    "  def __init__(self,name,age):      #construtor  (optional)\n",
    "    self.name=name                  #attributes of the object\n",
    "    self.age=age\n",
    "\n",
    "  def singing(self,song):           #class function method     behavior\n",
    "    print(\"the song is \",song)\n",
    "  \n",
    "  def flying(self):\n",
    "    print(\"parrot flies\")"
   ]
  },
  {
   "cell_type": "code",
   "execution_count": null,
   "metadata": {
    "colab": {
     "base_uri": "https://localhost:8080/"
    },
    "id": "bbaGULnbdWP-",
    "outputId": "5fa12013-cabd-4b43-a771-0b3c728a120c"
   },
   "outputs": [
    {
     "name": "stdout",
     "output_type": "stream",
     "text": [
      "lion\n",
      "10\n",
      "bird\n",
      "bird\n",
      "the song is  xyz\n",
      "parrot flies\n"
     ]
    }
   ],
   "source": [
    "blu=Parrot(\"lion\",10)    #Parrot.__init__(blu,\"lion\",10)\n",
    "print(blu.name)     #attributes of the object\n",
    "print(blu.age)      #\n",
    "\n",
    "print(blu.species)\n",
    "print(Parrot.species)\n",
    " \n",
    "blu.singing(\"xyz\")       #behaviors\n",
    "blu.flying()"
   ]
  },
  {
   "cell_type": "code",
   "execution_count": null,
   "metadata": {
    "colab": {
     "base_uri": "https://localhost:8080/"
    },
    "id": "CS3tmGkQdl0V",
    "outputId": "3e76243e-76d9-4c6d-c4cf-14cce76212b9"
   },
   "outputs": [
    {
     "name": "stdout",
     "output_type": "stream",
     "text": [
      "mantis\n",
      "15\n",
      "bird\n",
      "the song is  believer\n",
      "parrot flies\n"
     ]
    }
   ],
   "source": [
    "p2=Parrot(\"mantis\",15)\n",
    "print(p2.name)     #attributes of the object\n",
    "print(p2.age)      #\n",
    "\n",
    "print(p2.__class__.species)\n",
    " \n",
    "p2.singing(\"believer\")       #behaviors\n",
    "p2.flying()"
   ]
  },
  {
   "cell_type": "code",
   "execution_count": null,
   "metadata": {
    "id": "id7rBwdtNJ0w"
   },
   "outputs": [],
   "source": [
    "class Lion:\n",
    "  species=\"animal\"             #class variable  or static variable   :- common to all object . changing for one will change for all\n",
    "\n",
    "  def roars(self,song):           #class function method     behavior\n",
    "    print(\"the song is \",song)\n",
    "  \n",
    "  def hunting(self):\n",
    "    print(\"lion hunts\")"
   ]
  },
  {
   "cell_type": "code",
   "execution_count": null,
   "metadata": {
    "colab": {
     "base_uri": "https://localhost:8080/"
    },
    "id": "PLAaYSbtNXcQ",
    "outputId": "d18029d2-d4a4-482a-b4b7-3ff26533694d"
   },
   "outputs": [
    {
     "name": "stdout",
     "output_type": "stream",
     "text": [
      "animal\n",
      "the song is  loud\n",
      "lion hunts\n"
     ]
    }
   ],
   "source": [
    "lion1= Lion()\n",
    "print(lion1.species)\n",
    "lion1.roars('loud')\n",
    "lion1.hunting()\n"
   ]
  },
  {
   "cell_type": "code",
   "execution_count": null,
   "metadata": {
    "id": "nGbIKTUYdr0R"
   },
   "outputs": [],
   "source": [
    "class student:\n",
    "  coaching='Devtown'\n",
    "  age=20\n",
    "  country=\"india\"\n",
    "\n",
    "  def __init__(self,name):\n",
    "    self.name=name\n",
    "  \n",
    "  def walking(self):                      #methods\n",
    "    print(self.name, \"walks\")\n",
    "  \n",
    "  def studying(self,subject):\n",
    "    print(self.name,\"studies\", subject)"
   ]
  },
  {
   "cell_type": "code",
   "execution_count": null,
   "metadata": {
    "id": "ug9Rj7ulgFRN"
   },
   "outputs": [],
   "source": [
    "samadhan=student(\"samadhan\")                    \n",
    "swaraj=student(\"swaraj\")"
   ]
  },
  {
   "cell_type": "code",
   "execution_count": null,
   "metadata": {
    "colab": {
     "base_uri": "https://localhost:8080/"
    },
    "id": "yuiNubf9gSqU",
    "outputId": "d7d992d7-3245-4ef4-bb22-d8281da555af"
   },
   "outputs": [
    {
     "name": "stdout",
     "output_type": "stream",
     "text": [
      "samadhan\n",
      "20\n"
     ]
    }
   ],
   "source": [
    "print(samadhan.name)\n",
    "print(samadhan.age)"
   ]
  },
  {
   "cell_type": "code",
   "execution_count": null,
   "metadata": {
    "colab": {
     "base_uri": "https://localhost:8080/"
    },
    "id": "RFjdpcqygaVU",
    "outputId": "c4add83d-5fb7-46b5-ec97-c23aa362a9e0"
   },
   "outputs": [
    {
     "name": "stdout",
     "output_type": "stream",
     "text": [
      "swaraj\n",
      "20\n",
      "Devtown\n"
     ]
    }
   ],
   "source": [
    "print(swaraj.name)\n",
    "print(swaraj.age)\n",
    "print(swaraj.coaching)"
   ]
  },
  {
   "cell_type": "code",
   "execution_count": null,
   "metadata": {
    "colab": {
     "base_uri": "https://localhost:8080/"
    },
    "id": "5TWhyuHWgf_G",
    "outputId": "ab02cd9a-b5df-42c7-f1a6-9cce05983632"
   },
   "outputs": [
    {
     "name": "stdout",
     "output_type": "stream",
     "text": [
      "A walks\n",
      "A studies history\n",
      "b walks\n",
      "b studies geo\n"
     ]
    }
   ],
   "source": [
    "A=student('A')\n",
    "A.walking()      #behaviors\n",
    "A.studying(\"history\")\n",
    "\n",
    "b=student('b')\n",
    "b.walking()      #behaviors\n",
    "b.studying(\"geo\")\n"
   ]
  },
  {
   "cell_type": "code",
   "execution_count": null,
   "metadata": {
    "id": "oMLPyw6Khmax"
   },
   "outputs": [],
   "source": [
    "# #inheritance\n",
    "\n",
    "# # class Parent:\n",
    "# #   \"parent class fucntionalities\"\n",
    "\n",
    "#   # varibale and function\n",
    "#   #career=doctor\n",
    "\n",
    "\n",
    "\n",
    "# class child(Parent):\n",
    "#   \"parent functionalities and attirbutes are available in child\"\n",
    "\n",
    "#   # child attributes and methods\n",
    "#   #carrer=engineer\n",
    "\n"
   ]
  },
  {
   "cell_type": "code",
   "execution_count": null,
   "metadata": {
    "id": "CT-5YaDhlIOu"
   },
   "outputs": [],
   "source": [
    "class Bird:\n",
    "\n",
    "  def __init__(self):                  #constructor function is an automatically called fucntion which is called as soon as the object is created\n",
    "    print(\"bird is called\")\n",
    "  \n",
    "  def whoisThis(self):\n",
    "    print(\"bird\")\n",
    "\n",
    "  def swim(self):\n",
    "    print(\"swim faster\")\n",
    "\n",
    "\n",
    "\n",
    "class Penguin(Bird):\n",
    "\n",
    "  def __init__(self):\n",
    "    super().__init__()\n",
    "    print(\"penguin called\")\n",
    "    \n",
    "  \n",
    "  def whoisThis(self):\n",
    "    super().whoisThis()       #optional\n",
    "    print(\"penguin\")\n",
    "\n",
    "  def run(self):\n",
    "    print(\"runns faster\")\n",
    "\n",
    "\n",
    "class MalePenguin(Penguin):\n",
    "  def __init__(self):\n",
    "    super().__init__()\n",
    "\n",
    "\n",
    "class FemalePenguin(Penguin):\n",
    "  def __init__(self):\n",
    "    super().__init__()\n",
    "\n"
   ]
  },
  {
   "cell_type": "code",
   "execution_count": null,
   "metadata": {
    "colab": {
     "base_uri": "https://localhost:8080/"
    },
    "id": "Go81QR9El0mf",
    "outputId": "c5187378-5ef8-45c5-92af-4de3320e2b35"
   },
   "outputs": [
    {
     "name": "stdout",
     "output_type": "stream",
     "text": [
      "bird is called\n",
      "penguin called\n",
      "bird\n",
      "penguin\n",
      "runns faster\n",
      "swim faster\n"
     ]
    }
   ],
   "source": [
    "peggy=Penguin()             #calls contructor first of parent class then its own\n",
    "peggy.whoisThis()           #common functions will be overwritten by child\n",
    "\n",
    "peggy.run()                  #child specific function\n",
    "peggy.swim()                # function of parent inherited by child"
   ]
  },
  {
   "cell_type": "code",
   "execution_count": null,
   "metadata": {
    "id": "jiNVNDxgnnVG"
   },
   "outputs": [],
   "source": []
  }
 ],
 "metadata": {
  "colab": {
   "provenance": []
  },
  "kernelspec": {
   "display_name": "Python 3 (ipykernel)",
   "language": "python",
   "name": "python3"
  },
  "language_info": {
   "codemirror_mode": {
    "name": "ipython",
    "version": 3
   },
   "file_extension": ".py",
   "mimetype": "text/x-python",
   "name": "python",
   "nbconvert_exporter": "python",
   "pygments_lexer": "ipython3",
   "version": "3.10.5"
  }
 },
 "nbformat": 4,
 "nbformat_minor": 1
}
