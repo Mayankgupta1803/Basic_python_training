{
 "cells": [
  {
   "cell_type": "code",
   "execution_count": null,
   "metadata": {
    "colab": {
     "base_uri": "https://localhost:8080/"
    },
    "id": "iYl033LWX58_",
    "outputId": "2e9c39f1-7bf7-4d46-be25-a2aaa3cdbc3f"
   },
   "outputs": [
    {
     "name": "stdout",
     "output_type": "stream",
     "text": [
      "enter value of a:89\n",
      "89\n"
     ]
    }
   ],
   "source": [
    "#taking input form the user\n",
    "# bucky roberts\n",
    "a='abc'\n",
    "a=67\n",
    "a=(input(\"enter value of a:\"))\n",
    "print(a)"
   ]
  },
  {
   "cell_type": "code",
   "execution_count": null,
   "metadata": {
    "colab": {
     "base_uri": "https://localhost:8080/"
    },
    "id": "nNjUvgiJbDoA",
    "outputId": "4ee96b07-adf0-47af-fb88-7f4f9e207873"
   },
   "outputs": [
    {
     "name": "stdout",
     "output_type": "stream",
     "text": [
      "10\n",
      "30\n"
     ]
    }
   ],
   "source": [
    "a=10\n",
    "print(a)\n",
    "a=30\n",
    "print(a)"
   ]
  },
  {
   "cell_type": "code",
   "execution_count": null,
   "metadata": {
    "colab": {
     "base_uri": "https://localhost:8080/"
    },
    "id": "v2T7AVt8dB5L",
    "outputId": "0ee2e316-8b08-4931-cc19-58ed5e6c7713"
   },
   "outputs": [
    {
     "data": {
      "text/plain": [
       "complex"
      ]
     },
     "execution_count": 10,
     "metadata": {},
     "output_type": "execute_result"
    }
   ],
   "source": [
    "a=2j+9\n",
    "type(a)"
   ]
  },
  {
   "cell_type": "code",
   "execution_count": null,
   "metadata": {
    "colab": {
     "base_uri": "https://localhost:8080/"
    },
    "id": "lXKk1AwFffQs",
    "outputId": "a6e8260a-afaa-424a-8220-c82f6b370870"
   },
   "outputs": [
    {
     "data": {
      "text/plain": [
       "102.9"
      ]
     },
     "execution_count": 4,
     "metadata": {},
     "output_type": "execute_result"
    }
   ],
   "source": [
    "a=[1,2,4,89,6.9]\n",
    "sum(a)"
   ]
  },
  {
   "cell_type": "code",
   "execution_count": null,
   "metadata": {
    "colab": {
     "base_uri": "https://localhost:8080/",
     "height": 70
    },
    "id": "mUG0kc9DZmnN",
    "outputId": "2b6eefb5-6f67-403d-9ac0-982b36f08ad2"
   },
   "outputs": [
    {
     "name": "stdout",
     "output_type": "stream",
     "text": [
      "microsoft-> satya nadella\n",
      "apple-> tim cook\n"
     ]
    },
    {
     "data": {
      "application/vnd.google.colaboratory.intrinsic+json": {
       "type": "string"
      },
      "text/plain": [
       "'gs'"
      ]
     },
     "execution_count": 5,
     "metadata": {},
     "output_type": "execute_result"
    }
   ],
   "source": [
    "#data types:- int float double string list dictionary\n",
    "#int :- 1 2 3 4 5\n",
    "#float:- 1.1 3.3456 \n",
    "#string :- abcd xyc 1234xyz\n",
    "#list : [1,2 ,3]\n",
    "#dictionary: {1:2 , 3:4}\n",
    "\n",
    "l=[('microsoft','satya nadella'),('apple','tim cook'),('goldman sachs','david')]    #O(n)\n",
    "a={'microsoft':'''satya nadella''','apple':'tim cook','goldman sachs':'david','amazon':'jeff',1:2,'david':'gs'}\n",
    "\n",
    "# for (c,ceo) in l:\n",
    "#   if(c=='microsoft'):\n",
    "#     print(c,ceo,sep='->')\n",
    "\n",
    "\n",
    "\n",
    "print('microsoft->',a['microsoft'])\n",
    "print('apple->',a['apple'])\n",
    "a[1]\n",
    "\n",
    "\n",
    "a['david']\n",
    "\n"
   ]
  },
  {
   "cell_type": "code",
   "execution_count": null,
   "metadata": {
    "colab": {
     "base_uri": "https://localhost:8080/"
    },
    "id": "GEW8QtPiaY0v",
    "outputId": "ee82314e-1195-43c7-e75a-e53669b8c322"
   },
   "outputs": [
    {
     "name": "stdout",
     "output_type": "stream",
     "text": [
      "89\n",
      "89\n",
      "<class 'str'>\n",
      "enter a value1010\n",
      "1010\n",
      "<class 'int'>\n"
     ]
    },
    {
     "data": {
      "text/plain": [
       "90.0"
      ]
     },
     "execution_count": 13,
     "metadata": {},
     "output_type": "execute_result"
    }
   ],
   "source": [
    "a=(input())  # a is the available\n",
    "print(a)\n",
    "print(type(a))\n",
    "\n",
    "\n",
    "a=int(input(\"enter a value\"))  # a is the available\n",
    "print(a)\n",
    "print(type(a))\n",
    "\n",
    "a=90\n",
    "x=float(a)\n",
    "x"
   ]
  },
  {
   "cell_type": "code",
   "execution_count": null,
   "metadata": {
    "colab": {
     "base_uri": "https://localhost:8080/"
    },
    "id": "PjY2AWKRabLq",
    "outputId": "f8653a08-8365-423d-9207-4217afd84066"
   },
   "outputs": [
    {
     "name": "stdout",
     "output_type": "stream",
     "text": [
      "1 2 3\n",
      "1\t2\t3\n",
      "1\n",
      "1:2:3\n",
      "1 2\n",
      "1 2 3\n"
     ]
    }
   ],
   "source": [
    "print(1,2,3)\n",
    "print(1,2,3,sep=\"\\t\",end=\"\\n\")\n",
    "print(1)\n",
    "\n",
    "a=1\n",
    "b=2\n",
    "c=3\n",
    "print(a,b,c,end=\"\\n\",sep=\":\")\n",
    "print(1,2)\n",
    "print(1,2,3,end=\"\\n\")\n"
   ]
  },
  {
   "cell_type": "code",
   "execution_count": null,
   "metadata": {
    "colab": {
     "base_uri": "https://localhost:8080/"
    },
    "id": "BLZ6C24lbRGX",
    "outputId": "3b4116ac-1bb1-42a7-8db0-22a8d667a3e5"
   },
   "outputs": [
    {
     "name": "stdout",
     "output_type": "stream",
     "text": [
      "78\n"
     ]
    }
   ],
   "source": [
    "#variable \n",
    "\n",
    "#variable_name= assign_value\n",
    "a=10  #integer variable\n",
    "b=10.6 # float variable\n",
    "c=\"hello world\" #string variable\n",
    "d=[1,2,3,4]   #list datatype\n",
    "e={1:2,3:4}    #dictionary variable\n",
    "f=input()"
   ]
  },
  {
   "cell_type": "code",
   "execution_count": null,
   "metadata": {
    "colab": {
     "base_uri": "https://localhost:8080/"
    },
    "id": "pOVtpaOwcnfA",
    "outputId": "064d8110-bc69-4e25-9f0a-13ce0260bacb"
   },
   "outputs": [
    {
     "name": "stdout",
     "output_type": "stream",
     "text": [
      "10 <class 'int'>->10.6 <class 'float'>->hello world <class 'str'>\n",
      "[1, 2, 3, 4] <class 'list'>->{1: 2, 3: 4} <class 'dict'>->"
     ]
    },
    {
     "data": {
      "text/plain": [
       "34"
      ]
     },
     "execution_count": 21,
     "metadata": {},
     "output_type": "execute_result"
    }
   ],
   "source": [
    "print(a,type(a),end='->')\n",
    "print(b,type(b),end='->')\n",
    "print(c,type(c))\n",
    "print(d,type(d),end='->')\n",
    "print(e,type(e),end='->')\n",
    "34"
   ]
  },
  {
   "cell_type": "code",
   "execution_count": null,
   "metadata": {
    "id": "4VgibKAtcoBs"
   },
   "outputs": [],
   "source": [
    "multiple_word=10\n",
    "var_1=10"
   ]
  },
  {
   "cell_type": "code",
   "execution_count": null,
   "metadata": {
    "colab": {
     "base_uri": "https://localhost:8080/"
    },
    "id": "mcnTlnxXc36d",
    "outputId": "d3b34564-05f8-42ff-97c2-1499c7f19e03"
   },
   "outputs": [
    {
     "name": "stdout",
     "output_type": "stream",
     "text": [
      "13\n"
     ]
    }
   ],
   "source": [
    "a=10\n",
    "a=a+3\n",
    "print(a)"
   ]
  },
  {
   "cell_type": "code",
   "execution_count": null,
   "metadata": {
    "colab": {
     "base_uri": "https://localhost:8080/"
    },
    "id": "58ADKDePiS5Q",
    "outputId": "4ce68745-883e-463c-c025-b3fd90817e24"
   },
   "outputs": [
    {
     "name": "stdout",
     "output_type": "stream",
     "text": [
      "15 20 25\n"
     ]
    }
   ],
   "source": [
    "x=list(range(15,26,5))\n",
    "x\n",
    "a=x[0]\n",
    "b=x[1]\n",
    "c=x[2]\n",
    "print(a,b,c)"
   ]
  },
  {
   "cell_type": "code",
   "execution_count": null,
   "metadata": {
    "id": "Az47_SigdyF3"
   },
   "outputs": [],
   "source": [
    "a1,a2,a3=range(3)    #[0,1,2]"
   ]
  },
  {
   "cell_type": "code",
   "execution_count": null,
   "metadata": {
    "colab": {
     "base_uri": "https://localhost:8080/"
    },
    "id": "xHNDYEO6d2yV",
    "outputId": "84e7580e-f8bf-472a-c72b-81779bfda964"
   },
   "outputs": [
    {
     "name": "stdout",
     "output_type": "stream",
     "text": [
      "0 1 2\n",
      "0\n",
      "1\n"
     ]
    },
    {
     "data": {
      "text/plain": [
       "1"
      ]
     },
     "execution_count": 32,
     "metadata": {},
     "output_type": "execute_result"
    }
   ],
   "source": [
    "print(a1,a2,a3)\n",
    "print(a1)\n",
    "print(a2)\n",
    "x=[1,2,3]\n",
    "a,b,c=x\n",
    "a"
   ]
  },
  {
   "cell_type": "code",
   "execution_count": null,
   "metadata": {
    "colab": {
     "base_uri": "https://localhost:8080/"
    },
    "id": "xQkR7Z_Wd5rP",
    "outputId": "98e2a7c2-b93e-46fa-dd47-aab2ec4b68ca"
   },
   "outputs": [
    {
     "name": "stdout",
     "output_type": "stream",
     "text": [
      "0\n",
      "1\n",
      "2\n"
     ]
    }
   ],
   "source": [
    "for i in range(3):\n",
    "  print(i)"
   ]
  },
  {
   "cell_type": "code",
   "execution_count": null,
   "metadata": {
    "colab": {
     "base_uri": "https://localhost:8080/"
    },
    "id": "zy-Mjoy8d7uC",
    "outputId": "e28a88d7-6a77-48b2-ac8f-0c2f53be3df9"
   },
   "outputs": [
    {
     "name": "stdout",
     "output_type": "stream",
     "text": [
      "123xyz-->srk-->123-->pqr\n",
      "\n",
      "st\n",
      "<class 'str'>\n",
      "<class 'str'>\n",
      "<class 'str'>\n",
      "<class 'str'>\n"
     ]
    }
   ],
   "source": [
    "#strings are sequences of characters!! anythong can be considered as a string\n",
    "a=\"123xyz\"\n",
    "b=\"srk\"\n",
    "c='123'\n",
    "d2='''pqr\n",
    "\n",
    "st'''\n",
    "\n",
    "\n",
    "\n",
    "print(a,b,c,d2,sep=\"-->\")\n",
    "print(type(a))\n",
    "print(type(b))\n",
    "print(type(c))\n",
    "print(type(d2))\n"
   ]
  },
  {
   "cell_type": "code",
   "execution_count": null,
   "metadata": {
    "colab": {
     "base_uri": "https://localhost:8080/"
    },
    "id": "Hb7OTkRceqVd",
    "outputId": "128b0bba-d4ed-4dfc-a6d1-b3c8a5e072a4"
   },
   "outputs": [
    {
     "name": "stdout",
     "output_type": "stream",
     "text": [
      "a \"bcd \"  $\n",
      "<class 'int'>\n",
      "<class 'str'>\n",
      "<class 'float'>\n",
      "<class 'str'>\n",
      "123 123 123.0\n"
     ]
    }
   ],
   "source": [
    "a='a \\\"bcd \\\"  $'\n",
    "\n",
    "\n",
    "print(a)\n",
    "#triple quotes work when the value of the variable is in multiple lines !! for the same line u can use single or dohble quotes\n",
    "\n",
    "\n",
    "print(type(123))\n",
    "print(type('123'))\n",
    "print(type(123.0))\n",
    "print(type('123.0'))\n",
    "print(123,'123',123.0)\n"
   ]
  },
  {
   "cell_type": "code",
   "execution_count": null,
   "metadata": {
    "colab": {
     "base_uri": "https://localhost:8080/"
    },
    "id": "vjmddWSmfIBx",
    "outputId": "a5a971c1-44f2-4fc2-a017-3f87484cda3a"
   },
   "outputs": [
    {
     "name": "stdout",
     "output_type": "stream",
     "text": [
      "\"abcd\"\n",
      "20\n",
      "10\n"
     ]
    }
   ],
   "source": [
    "'''\n",
    "this is a muliplt line \n",
    "comment\n",
    "'''\n",
    "\n",
    "a=10\n",
    "b=20      #select everything u want to comment and pressed ctrl+/\n",
    "c=10\n",
    "\n",
    "\n",
    "print(a)\n",
    "print(b)\n",
    "print(c) #hey this a multiple line edit using alt in keyboard\n",
    " \n",
    " \n",
    "\n",
    "\n"
   ]
  },
  {
   "cell_type": "code",
   "execution_count": null,
   "metadata": {
    "colab": {
     "base_uri": "https://localhost:8080/"
    },
    "id": "Q00dIi_WpWOv",
    "outputId": "037c4e2c-c194-4eba-b5c2-7a50d1b06e9f"
   },
   "outputs": [
    {
     "data": {
      "text/plain": [
       "2"
      ]
     },
     "execution_count": 37,
     "metadata": {},
     "output_type": "execute_result"
    }
   ],
   "source": [
    "x=(1,2,3)\n",
    "a,b,c=x\n",
    "b"
   ]
  },
  {
   "cell_type": "code",
   "execution_count": null,
   "metadata": {
    "colab": {
     "base_uri": "https://localhost:8080/"
    },
    "id": "Ublz8BBOgcQR",
    "outputId": "24153e18-04d8-40ee-8674-f60fb927a6d1"
   },
   "outputs": [
    {
     "name": "stdout",
     "output_type": "stream",
     "text": [
      "2\n",
      "3\n",
      "False\n",
      "True\n",
      "0\n"
     ]
    }
   ],
   "source": [
    "print(\"abcde\".index(\"cd\"))\n",
    "      #01234\n",
    "\n",
    "# length :- 5\n",
    "# indexing start from 0 and does till 4 (n-1)\n",
    "\n",
    "s='abcde'\n",
    "print(s.index(\"d\"))   #index of the position of the substring in the string\n",
    "\n",
    "\n",
    "\n",
    "print(\"f\" in \"india\")\n",
    "print(\"d\" in \"india\")\n",
    "\n",
    "\n",
    "if \"a\" in s:\n",
    "  print(s.index(\"a\"))\n",
    "else:\n",
    "  print(\"not present\")\n"
   ]
  },
  {
   "cell_type": "code",
   "execution_count": null,
   "metadata": {
    "colab": {
     "base_uri": "https://localhost:8080/"
    },
    "id": "1_Sg89O1gf0L",
    "outputId": "add7f979-b3e8-42fd-e2cd-4e16d47708c0"
   },
   "outputs": [
    {
     "name": "stdout",
     "output_type": "stream",
     "text": [
      "1 2 3\n",
      "04/10/2022\n",
      "<class 'str'>\n"
     ]
    }
   ],
   "source": [
    "a=[\"1\",\"2\",\"3\"]\n",
    "\"1 2 3\"\n",
    "\n",
    "print(' '.join(a))\n",
    "\n",
    "combined_string=\"/\".join([\"04\",\"10\",\"2022\"])\n",
    "print(combined_string)\n",
    "print(type(combined_string))"
   ]
  },
  {
   "cell_type": "code",
   "execution_count": null,
   "metadata": {
    "colab": {
     "base_uri": "https://localhost:8080/"
    },
    "id": "obtm0YVXiG_d",
    "outputId": "9af001e4-99d5-4187-ec9b-53f3b06235f5"
   },
   "outputs": [
    {
     "name": "stdout",
     "output_type": "stream",
     "text": [
      "04 10 2022\n"
     ]
    },
    {
     "data": {
      "text/plain": [
       "['i', 'study', 'in', 'devtown']"
      ]
     },
     "execution_count": 44,
     "metadata": {},
     "output_type": "execute_result"
    }
   ],
   "source": [
    "dd,mm,yyyy=combined_string.split(\"/\")\n",
    "print(dd,mm,yyyy)\n",
    "\n",
    "s= \"i study in devtown\"\n",
    "s.split(\" \")"
   ]
  },
  {
   "cell_type": "code",
   "execution_count": null,
   "metadata": {
    "colab": {
     "base_uri": "https://localhost:8080/"
    },
    "id": "6SKKoGhNiOlr",
    "outputId": "0dd66e14-5cfe-4d9e-e15b-0f63ea2d2e10"
   },
   "outputs": [
    {
     "data": {
      "text/plain": [
       "['i ', 'dhkuwef ', 'ediuw ', 'wqduq ', 'shu']"
      ]
     },
     "execution_count": 57,
     "metadata": {},
     "output_type": "execute_result"
    }
   ],
   "source": [
    "a=\"i jdhkuwef jediuw jwqduq jshu\"\n",
    "a=a.split(\"j\")\n",
    "a"
   ]
  },
  {
   "cell_type": "code",
   "execution_count": null,
   "metadata": {
    "colab": {
     "base_uri": "https://localhost:8080/",
     "height": 36
    },
    "id": "VUdm2bejieuQ",
    "outputId": "ba3c0771-c879-4414-a21c-8b8d10e8e976"
   },
   "outputs": [
    {
     "data": {
      "application/vnd.google.colaboratory.intrinsic+json": {
       "type": "string"
      },
      "text/plain": [
       "'hey my name is rahul'"
      ]
     },
     "execution_count": 50,
     "metadata": {},
     "output_type": "execute_result"
    }
   ],
   "source": [
    "\"a\".join(a)"
   ]
  },
  {
   "cell_type": "code",
   "execution_count": null,
   "metadata": {
    "id": "Drq_0L_RifMS"
   },
   "outputs": [],
   "source": []
  },
  {
   "cell_type": "code",
   "execution_count": null,
   "metadata": {
    "colab": {
     "base_uri": "https://localhost:8080/"
    },
    "id": "-JvjDavki_uf",
    "outputId": "9649de46-28c2-481e-d628-a2cf26ca0b35"
   },
   "outputs": [
    {
     "name": "stdout",
     "output_type": "stream",
     "text": [
      "False\n",
      "True\n",
      "True\n",
      "True\n",
      "1\n",
      "\n",
      "False\n",
      "True\n",
      "True\n",
      "True\n",
      "True\n",
      "\n",
      "False\n",
      "False\n",
      "True\n",
      "True\n",
      "\n",
      "True\n"
     ]
    }
   ],
   "source": [
    "#boolean data type in python\n",
    "# True and False\n",
    "\n",
    "a=True   \n",
    "b=False\n",
    "c='khushi'\n",
    "print(bool(\"\"))\n",
    "print(bool('abcdfjfkjk'))\n",
    "print(bool('khushi'))\n",
    "print(bool(c))\n",
    "abcdjfskljdfk=1\n",
    "print(abcdjfskljdfk)\n",
    "print()\n",
    "print(bool(0))\n",
    "print(bool(1))\n",
    "print(bool(-1))\n",
    "print(bool(100))\n",
    "print(bool(-100))\n",
    "print()\n",
    "print(bool([]))\n",
    "print(bool({}))\n",
    "print(bool([0]))\n",
    "print(bool({1:2}))\n",
    "print()\n",
    "print(bool('0'))"
   ]
  },
  {
   "cell_type": "code",
   "execution_count": null,
   "metadata": {
    "colab": {
     "base_uri": "https://localhost:8080/"
    },
    "id": "qkUTfLDAvRzN",
    "outputId": "7c52ac67-ebfe-40ae-9f21-84d7a7e6d187"
   },
   "outputs": [
    {
     "name": "stdout",
     "output_type": "stream",
     "text": [
      "true\n"
     ]
    }
   ],
   "source": [
    "x=[0]\n",
    "if(len(x)):\n",
    "  print(\"true\")\n",
    "else:\n",
    "  print(\"false\")"
   ]
  },
  {
   "cell_type": "code",
   "execution_count": null,
   "metadata": {
    "colab": {
     "base_uri": "https://localhost:8080/"
    },
    "id": "Krcj5d-zjy-o",
    "outputId": "fedb1f0f-0823-46e4-cfba-952f73f89b10"
   },
   "outputs": [
    {
     "name": "stdout",
     "output_type": "stream",
     "text": [
      "a\n",
      "c\n",
      "g\n",
      "g\n",
      "f\n",
      "ce\n",
      "gfedcba\n",
      "cdef\n",
      "6\n"
     ]
    }
   ],
   "source": [
    "a=\"abcdefg\"  \n",
    "  #0123456\n",
    "\n",
    "#positive indexing\n",
    "print(a[0])\n",
    "print(a[2])\n",
    "print(a[6])\n",
    "#negetive indexing\n",
    "print(a[-1])\n",
    "print(a[-2])\n",
    "#slicing\n",
    "print(a[2:5:2])   #start at 2 and go until 5 not included\n",
    "\n",
    "print(a[::-1])\n",
    "\n",
    "print(a[-5:-1])\n",
    "                #slicing \n",
    "print(a.index('g'))"
   ]
  },
  {
   "cell_type": "code",
   "execution_count": null,
   "metadata": {
    "colab": {
     "base_uri": "https://localhost:8080/"
    },
    "id": "a2byi8LMj9x3",
    "outputId": "c8010ac2-d0a4-4dad-982c-26b429c46de0"
   },
   "outputs": [
    {
     "name": "stdout",
     "output_type": "stream",
     "text": [
      "efgh\n",
      "abcd\n"
     ]
    }
   ],
   "source": [
    "a=\"abcd:efgh\"\n",
    "p=a.index(':')    #4\n",
    "print(a[p+1:])     #a[5:]\n",
    "print(a[:p])       #a[:4]"
   ]
  },
  {
   "cell_type": "code",
   "execution_count": null,
   "metadata": {
    "colab": {
     "base_uri": "https://localhost:8080/"
    },
    "id": "qMznfLklAmh6",
    "outputId": "f576c3ee-7df7-44aa-bcae-752ea9f995bb"
   },
   "outputs": [
    {
     "name": "stdout",
     "output_type": "stream",
     "text": [
      "1\n",
      "2\n",
      "3\n",
      "4\n",
      "[5, 6]\n"
     ]
    }
   ],
   "source": [
    "a=(1,2,3,4,[5,6])\n",
    "# p=a[-1]\n",
    "# q=a[0]\n",
    "# r=a[1]\n",
    "# s=a[2]\n",
    "\n",
    "\n",
    "p,q,r,s,t=a\n",
    "print(p,q,r,s,t,sep=\"\\n\")"
   ]
  }
 ],
 "metadata": {
  "colab": {
   "provenance": []
  },
  "kernelspec": {
   "display_name": "Python 3 (ipykernel)",
   "language": "python",
   "name": "python3"
  },
  "language_info": {
   "codemirror_mode": {
    "name": "ipython",
    "version": 3
   },
   "file_extension": ".py",
   "mimetype": "text/x-python",
   "name": "python",
   "nbconvert_exporter": "python",
   "pygments_lexer": "ipython3",
   "version": "3.10.5"
  }
 },
 "nbformat": 4,
 "nbformat_minor": 1
}
