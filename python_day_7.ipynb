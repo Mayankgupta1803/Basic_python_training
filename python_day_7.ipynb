{
 "cells": [
  {
   "cell_type": "code",
   "execution_count": null,
   "metadata": {
    "id": "wADeRoJ_uzxr"
   },
   "outputs": [],
   "source": [
    "#encapsulation  :- it is the wrapping up of data into a single unit called class.\n"
   ]
  },
  {
   "cell_type": "code",
   "execution_count": null,
   "metadata": {
    "id": "WvQ7O7SRyUGi"
   },
   "outputs": [],
   "source": [
    "class Computer:\n",
    "  def __init__(self):                               #  public varible,private and protected varibles\n",
    "    self.__maxprice=900                             #  maxprice       __maxprice  _maxprice\n",
    "  \n",
    "  def sell(self):\n",
    "    print(\"selling price\", self.__maxprice)          #getter function\n",
    "\n",
    "  def setMaxPrice(self,price):                         # setter function\n",
    "    self.__maxprice=price"
   ]
  },
  {
   "cell_type": "code",
   "execution_count": null,
   "metadata": {
    "colab": {
     "base_uri": "https://localhost:8080/"
    },
    "id": "eit5wHFvynHv",
    "outputId": "60c168fd-78d7-4552-8b45-7756d0a337df"
   },
   "outputs": [
    {
     "name": "stdout",
     "output_type": "stream",
     "text": [
      "selling price 900\n"
     ]
    }
   ],
   "source": [
    "c=Computer()\n",
    "c.sell()\n"
   ]
  },
  {
   "cell_type": "code",
   "execution_count": null,
   "metadata": {
    "colab": {
     "base_uri": "https://localhost:8080/"
    },
    "id": "o6pdXwUwzSyX",
    "outputId": "d69c5771-f7c5-4520-af21-9eecebf96688"
   },
   "outputs": [
    {
     "name": "stdout",
     "output_type": "stream",
     "text": [
      "selling price 900\n"
     ]
    }
   ],
   "source": [
    "c.__maxprice=9000\n",
    "c.sell()"
   ]
  },
  {
   "cell_type": "code",
   "execution_count": null,
   "metadata": {
    "colab": {
     "base_uri": "https://localhost:8080/"
    },
    "id": "ungXpiWazYVm",
    "outputId": "b45841bd-5b01-489d-a95c-426ff1351b1f"
   },
   "outputs": [
    {
     "name": "stdout",
     "output_type": "stream",
     "text": [
      "selling price 1000\n"
     ]
    }
   ],
   "source": [
    "c.setMaxPrice(1000)\n",
    "c.sell()"
   ]
  },
  {
   "cell_type": "code",
   "execution_count": null,
   "metadata": {
    "colab": {
     "base_uri": "https://localhost:8080/"
    },
    "id": "4eH9zLcUz264",
    "outputId": "fbe7358e-c1b1-4980-d7db-9f5b50521e75"
   },
   "outputs": [
    {
     "data": {
      "text/plain": [
       "9000"
      ]
     },
     "execution_count": 11,
     "metadata": {},
     "output_type": "execute_result"
    }
   ],
   "source": [
    "c.__maxprice"
   ]
  },
  {
   "cell_type": "code",
   "execution_count": null,
   "metadata": {
    "id": "6cQTg6mPz8HH"
   },
   "outputs": [],
   "source": [
    "#Polymorphism     :- poly and morphism       poly means many morphism means many forms\n",
    "                     #polymorphism stands for common interfae=ce for multiplle forms"
   ]
  },
  {
   "cell_type": "code",
   "execution_count": null,
   "metadata": {
    "id": "uatr30bS0WNu"
   },
   "outputs": [],
   "source": [
    "class Parrot:\n",
    "  def fly(self):\n",
    "    print(\"parrot can fly\")\n",
    "  \n",
    "  def swim(self):\n",
    "    print(\"parrot cant swims\")\n",
    "\n",
    "class Penguin:\n",
    "  def fly(self):\n",
    "    print(\"Penguin cant fly\")\n",
    "  \n",
    "  def swim(self):\n",
    "    print(\"Penguin swims\")"
   ]
  },
  {
   "cell_type": "code",
   "execution_count": null,
   "metadata": {
    "id": "GyS3s4tS0qAI"
   },
   "outputs": [],
   "source": [
    "def flying_test(bird):                 #implementing polymorphism\n",
    "  bird.fly()"
   ]
  },
  {
   "cell_type": "code",
   "execution_count": null,
   "metadata": {
    "id": "Ozj2MZML01AM"
   },
   "outputs": [],
   "source": [
    "blu=Parrot()\n",
    "peggy=Penguin()"
   ]
  },
  {
   "cell_type": "code",
   "execution_count": null,
   "metadata": {
    "colab": {
     "base_uri": "https://localhost:8080/"
    },
    "id": "d3APEaa6083l",
    "outputId": "f60ac93c-7cae-477d-a33f-4b3c000d6b8f"
   },
   "outputs": [
    {
     "name": "stdout",
     "output_type": "stream",
     "text": [
      "parrot can fly\n",
      "Penguin cant fly\n"
     ]
    }
   ],
   "source": [
    "flying_test(blu)\n",
    "flying_test(peggy)"
   ]
  },
  {
   "cell_type": "code",
   "execution_count": null,
   "metadata": {
    "id": "VNZtqWdr1B50"
   },
   "outputs": [],
   "source": [
    "#inheritance :-    single inheritance\n",
    "\n",
    "class Polygon:\n",
    "  def __init__(self,no_of_sides):\n",
    "    self.n=no_of_sides\n",
    "    self.sides=[0 for i in range(no_of_sides)]                 #[0 0 0]\n",
    "  \n",
    "  def inputSides(self):\n",
    "    self.sides=[float(input(\"enter side :\" + str(i+1))) for i in range(self.n)]\n",
    "  \n",
    "  def dispSides(self):\n",
    "    for i in range(self.n):\n",
    "      print(self.sides[i])\n"
   ]
  },
  {
   "cell_type": "code",
   "execution_count": null,
   "metadata": {
    "id": "BD-LbHwv2Vky"
   },
   "outputs": [],
   "source": [
    "class Triangle(Polygon):\n",
    "  def __init__(self):\n",
    "    Polygon.__init__(self,3)\n",
    "  \n",
    "  def findarea(self):\n",
    "    a,b,c=self.sides\n",
    "    s=(a+b+c)/2\n",
    "    area=(s*(s-a)*(s-b)*(s-c))**0.5\n",
    "    print(area)\n"
   ]
  },
  {
   "cell_type": "code",
   "execution_count": null,
   "metadata": {
    "id": "0V8Im9oL3Wf3"
   },
   "outputs": [],
   "source": [
    "class Square(Polygon):\n",
    "  def __init__(self):\n",
    "    Polygon.__init__(self,4)\n",
    "  \n",
    "  def findarea(self):\n",
    "    a,b,c,d=self.sides\n",
    "    print(a*a)"
   ]
  },
  {
   "cell_type": "code",
   "execution_count": null,
   "metadata": {
    "colab": {
     "base_uri": "https://localhost:8080/"
    },
    "id": "mIyMmc862zYG",
    "outputId": "2f722cd7-9a69-40ff-c229-6563cf5bf05b"
   },
   "outputs": [
    {
     "name": "stdout",
     "output_type": "stream",
     "text": [
      "3\n"
     ]
    },
    {
     "data": {
      "text/plain": [
       "[0, 0, 0]"
      ]
     },
     "execution_count": 17,
     "metadata": {},
     "output_type": "execute_result"
    }
   ],
   "source": [
    "t=Triangle()\n",
    "print(t.n)\n",
    "t.sides"
   ]
  },
  {
   "cell_type": "code",
   "execution_count": null,
   "metadata": {
    "colab": {
     "base_uri": "https://localhost:8080/"
    },
    "id": "lli0Q9Se3F0r",
    "outputId": "d28e80e3-08c8-4462-a15e-582ec85c15a9"
   },
   "outputs": [
    {
     "name": "stdout",
     "output_type": "stream",
     "text": [
      "enter side :13\n",
      "enter side :23\n",
      "enter side :34\n"
     ]
    }
   ],
   "source": [
    "t.inputSides()"
   ]
  },
  {
   "cell_type": "code",
   "execution_count": null,
   "metadata": {
    "colab": {
     "base_uri": "https://localhost:8080/"
    },
    "id": "67rTpZhJHtTE",
    "outputId": "58a76880-53cc-47e1-9c71-187c58df3ea4"
   },
   "outputs": [
    {
     "data": {
      "text/plain": [
       "[3.0, 3.0, 4.0]"
      ]
     },
     "execution_count": 19,
     "metadata": {},
     "output_type": "execute_result"
    }
   ],
   "source": [
    "t.sides"
   ]
  },
  {
   "cell_type": "code",
   "execution_count": null,
   "metadata": {
    "colab": {
     "base_uri": "https://localhost:8080/"
    },
    "id": "8kG9pfIG3H2Q",
    "outputId": "c3d02805-6c9b-42f5-e9de-a7e159a224de"
   },
   "outputs": [
    {
     "name": "stdout",
     "output_type": "stream",
     "text": [
      "3.0\n",
      "3.0\n",
      "4.0\n"
     ]
    }
   ],
   "source": [
    "t.dispSides()"
   ]
  },
  {
   "cell_type": "code",
   "execution_count": null,
   "metadata": {
    "colab": {
     "base_uri": "https://localhost:8080/"
    },
    "id": "Ddwvq2J23LlY",
    "outputId": "5d9e4866-c835-4ec4-a0a9-0dd59b7d766a"
   },
   "outputs": [
    {
     "name": "stdout",
     "output_type": "stream",
     "text": [
      "4.47213595499958\n"
     ]
    }
   ],
   "source": [
    "t.findarea()"
   ]
  },
  {
   "cell_type": "code",
   "execution_count": null,
   "metadata": {
    "id": "WMe8DPlp3OPo"
   },
   "outputs": [],
   "source": [
    "sq=Square()\n"
   ]
  },
  {
   "cell_type": "code",
   "execution_count": null,
   "metadata": {
    "colab": {
     "base_uri": "https://localhost:8080/"
    },
    "id": "4OsLKVL03lBu",
    "outputId": "55ebae05-69e4-495d-e2f0-d04a6df1979e"
   },
   "outputs": [
    {
     "name": "stdout",
     "output_type": "stream",
     "text": [
      "enter side :15\n",
      "enter side :25\n",
      "enter side :35\n",
      "enter side :45\n"
     ]
    }
   ],
   "source": [
    "\n",
    "sq.inputSides()\n"
   ]
  },
  {
   "cell_type": "code",
   "execution_count": null,
   "metadata": {
    "colab": {
     "base_uri": "https://localhost:8080/"
    },
    "id": "iFxWGYsO3q5r",
    "outputId": "6b422d13-6f0f-46d3-a851-53d7d760dd8c"
   },
   "outputs": [
    {
     "name": "stdout",
     "output_type": "stream",
     "text": [
      "25.0\n"
     ]
    }
   ],
   "source": [
    "sq.findarea()"
   ]
  }
 ],
 "metadata": {
  "colab": {
   "provenance": []
  },
  "kernelspec": {
   "display_name": "Python 3 (ipykernel)",
   "language": "python",
   "name": "python3"
  },
  "language_info": {
   "codemirror_mode": {
    "name": "ipython",
    "version": 3
   },
   "file_extension": ".py",
   "mimetype": "text/x-python",
   "name": "python",
   "nbconvert_exporter": "python",
   "pygments_lexer": "ipython3",
   "version": "3.10.5"
  }
 },
 "nbformat": 4,
 "nbformat_minor": 1
}
