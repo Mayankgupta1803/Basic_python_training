{
 "cells": [
  {
   "cell_type": "code",
   "execution_count": null,
   "metadata": {
    "id": "aUgNvizGrbIP"
   },
   "outputs": [],
   "source": [
    "def function(name, msg=\"hello\"):   #name adn msg are the parameter where msg is a dfault parameter\n",
    "  print(name,msg,sep=\" \")\n"
   ]
  },
  {
   "cell_type": "code",
   "execution_count": null,
   "metadata": {
    "colab": {
     "base_uri": "https://localhost:8080/"
    },
    "id": "VinjVBiArwQK",
    "outputId": "e6b21db4-1764-4347-86d0-7786e71f8de2"
   },
   "outputs": [
    {
     "name": "stdout",
     "output_type": "stream",
     "text": [
      "hi hello\n",
      "hi how are you\n",
      "rahul how are you\n",
      "rahul how are you\n"
     ]
    }
   ],
   "source": [
    "function(\"hi\")\n",
    "function(\"hi\",\"how are you\")\n",
    "function(\"rahul\", \"how are you\")\n",
    "function(msg=\"how are you\", name=\"rahul\")    #msg is being passed to name and name is being passed to msg as default sequence"
   ]
  },
  {
   "cell_type": "code",
   "execution_count": null,
   "metadata": {
    "colab": {
     "base_uri": "https://localhost:8080/"
    },
    "id": "TxyZ7bF-r_7r",
    "outputId": "83b3bfa0-9f78-41e2-beaf-be19a0effc59"
   },
   "outputs": [
    {
     "name": "stdout",
     "output_type": "stream",
     "text": [
      "hi how are you\n",
      "rahul how are you\n",
      "rahul how are you\n"
     ]
    }
   ],
   "source": [
    "function(name=\"hi\",msg=\"how are you\")\n",
    "function(name=\"rahul\", msg=\"how are you\")    #python keyword arguments\n",
    "function(msg=\"how are you\", name=\"rahul\")"
   ]
  },
  {
   "cell_type": "code",
   "execution_count": 1,
   "metadata": {
    "id": "lVYXgrn9sSIu"
   },
   "outputs": [],
   "source": [
    "#python arbitary arguments\n",
    "\n",
    "def greet(*names,name):               #(1,2,3)   #iterator  names=(1,2,3,5,45)\n",
    "  print(names,name)"
   ]
  },
  {
   "cell_type": "code",
   "execution_count": 2,
   "metadata": {
    "colab": {
     "base_uri": "https://localhost:8080/"
    },
    "id": "XSnmTuzct30U",
    "outputId": "e23948b5-44f6-4971-9f19-6e57dcb3e61b"
   },
   "outputs": [
    {
     "name": "stdout",
     "output_type": "stream",
     "text": [
      "('1', '2', '3', '5', '5', 45) rahul\n",
      "('1', '2', '3') rahul\n"
     ]
    }
   ],
   "source": [
    "greet(\"1\",\"2\",\"3\",\"5\",'5',45,name=\"rahul\")\n",
    "greet(\"1\",\"2\",\"3\",name=\"rahul\")"
   ]
  },
  {
   "cell_type": "code",
   "execution_count": null,
   "metadata": {
    "id": "T9Y51xYft8mC"
   },
   "outputs": [],
   "source": [
    "def addition(*numbers):\n",
    "  sum=0\n",
    "  for num in numbers:\n",
    "    sum=sum+num\n",
    "  return sum\n",
    "\n",
    "\n",
    "def mul(num1,num2):\n",
    "  print(num1*num2)"
   ]
  },
  {
   "cell_type": "code",
   "execution_count": null,
   "metadata": {
    "colab": {
     "base_uri": "https://localhost:8080/"
    },
    "id": "TiEdD_CIukcl",
    "outputId": "757c73a6-1b2d-4231-bc7b-09358a10152f"
   },
   "outputs": [
    {
     "name": "stdout",
     "output_type": "stream",
     "text": [
      "248\n",
      "3\n",
      "51\n",
      "12648\n"
     ]
    }
   ],
   "source": [
    "a=addition(45,12,34,67,90)\n",
    "print(a)\n",
    "b=addition(1,2,3,4,5,6,7,8,9,1,2,3)\n",
    "print(addition(1,2))\n",
    "print(b)\n",
    "mul(a,b)\n"
   ]
  },
  {
   "cell_type": "code",
   "execution_count": null,
   "metadata": {
    "id": "cHzLmRNyp-sM"
   },
   "outputs": [],
   "source": [
    "def math(a,b):\n",
    "  return a+b, a-b , a*b , a//b\n",
    "\n"
   ]
  },
  {
   "cell_type": "code",
   "execution_count": null,
   "metadata": {
    "colab": {
     "base_uri": "https://localhost:8080/"
    },
    "id": "EWZk1RzHqHEe",
    "outputId": "7c48fc35-daf3-4598-9248-a153a559c19e"
   },
   "outputs": [
    {
     "name": "stdout",
     "output_type": "stream",
     "text": [
      "38 18 280 2\n"
     ]
    }
   ],
   "source": [
    "sum,diff,mul,div= math(28, 10)\n",
    "print(sum,diff,mul, div)"
   ]
  },
  {
   "cell_type": "code",
   "execution_count": null,
   "metadata": {
    "id": "AKK5ipAKumfe"
   },
   "outputs": [],
   "source": [
    "#recursion  : function calling the same function again and again\n",
    "\n",
    "def factorial(num):                        \n",
    "  if num<=1:\n",
    "    return 1  \n",
    "  else:\n",
    "    return (num*factorial(num-1))\n"
   ]
  },
  {
   "cell_type": "code",
   "execution_count": null,
   "metadata": {
    "colab": {
     "base_uri": "https://localhost:8080/"
    },
    "id": "WiriJFaIvimG",
    "outputId": "003b9dca-4c9e-4568-9c48-e73088cc0759"
   },
   "outputs": [
    {
     "name": "stdout",
     "output_type": "stream",
     "text": [
      "1\n",
      "120\n",
      "6\n"
     ]
    }
   ],
   "source": [
    "print(factorial(-1))\n",
    "print(factorial(5))\n",
    "print(factorial(3))"
   ]
  },
  {
   "cell_type": "code",
   "execution_count": 8,
   "metadata": {
    "colab": {
     "base_uri": "https://localhost:8080/"
    },
    "id": "k01reB50wxpp",
    "outputId": "bfc1c554-c842-4cb6-d43a-04654b31a091"
   },
   "outputs": [
    {
     "name": "stdout",
     "output_type": "stream",
     "text": [
      "5\n"
     ]
    }
   ],
   "source": [
    "#GCD := greater common divisor\n",
    "#  2,4 =2\n",
    "#  3, 7 =1\n",
    "\n",
    "# 15 10  = 5\n",
    "\n",
    "\n",
    "def gcdcode(a,b):\n",
    "  if b==0:\n",
    "    return a\n",
    "  else:\n",
    "    return gcdcode(b,a%b)\n",
    "\n",
    "\n",
    "print(gcdcode(10,15))\n"
   ]
  },
  {
   "cell_type": "code",
   "execution_count": null,
   "metadata": {
    "id": "3ZzrkoHiw7aX"
   },
   "outputs": [],
   "source": [
    "def gcd(a,b):\n",
    "  if(b==0):\n",
    "    return a\n",
    "  if(b>a):\n",
    "    return gcd(b,a)\n",
    "  return gcd(a-b,b)"
   ]
  },
  {
   "cell_type": "code",
   "execution_count": null,
   "metadata": {
    "colab": {
     "base_uri": "https://localhost:8080/"
    },
    "id": "QqvsbpokxLA5",
    "outputId": "cb2123a7-d613-46ea-eed1-5e6a4d725855"
   },
   "outputs": [
    {
     "name": "stdout",
     "output_type": "stream",
     "text": [
      "3\n"
     ]
    }
   ],
   "source": [
    "print(gcd(21,3))"
   ]
  },
  {
   "cell_type": "code",
   "execution_count": 9,
   "metadata": {
    "colab": {
     "base_uri": "https://localhost:8080/"
    },
    "id": "B0z1QA_2x6Y9",
    "outputId": "b2f17f3f-7d1f-48ef-afda-0ab5a8fd6e03"
   },
   "outputs": [
    {
     "name": "stdout",
     "output_type": "stream",
     "text": [
      "-0.9540914674728181\n",
      "5\n",
      "65\n"
     ]
    }
   ],
   "source": [
    "import math\n",
    "print(math.sin(90*(180/math.pi)))\n",
    "print(math.gcd(10,15))\n",
    "\n",
    "print(ord('A'))    #asqii value"
   ]
  },
  {
   "cell_type": "code",
   "execution_count": null,
   "metadata": {
    "colab": {
     "base_uri": "https://localhost:8080/"
    },
    "id": "7AsCecT4vl7c",
    "outputId": "45d561a0-6cf1-495c-f725-0b5bed08359f"
   },
   "outputs": [
    {
     "name": "stdout",
     "output_type": "stream",
     "text": [
      "5\n",
      "25\n",
      "25\n",
      "hihello\n"
     ]
    }
   ],
   "source": [
    "#anonymous functions:  these function do not have a name\n",
    "#make code shorter and professional\n",
    "#have good inbuilt functionalities\n",
    "\n",
    "def addtwo(num):\n",
    "  return num+2\n",
    "\n",
    "#lambda function\n",
    "\n",
    "a=lambda x:x+2\n",
    "print(a(3))\n",
    "\n",
    "\n",
    "func=lambda x,y: x+y\n",
    "\n",
    "\n",
    "def func1(x,y):\n",
    "  return x+y\n",
    "\n",
    "print(func(10,15))\n",
    "print(func1(10,15))\n",
    "print(func(\"hi\",\"hello\"))"
   ]
  },
  {
   "cell_type": "code",
   "execution_count": null,
   "metadata": {
    "colab": {
     "base_uri": "https://localhost:8080/"
    },
    "id": "Oj9p9XLUyFqe",
    "outputId": "b5122b7c-6eac-4a84-df80-219a0cad3235"
   },
   "outputs": [
    {
     "name": "stdout",
     "output_type": "stream",
     "text": [
      "[2, 4, 6, 8, 10]\n",
      "[2, 4, 6, 8, 10]\n"
     ]
    }
   ],
   "source": [
    "# #filter function\n",
    "\n",
    "# filter(function, list)\n",
    "\n",
    "list1=[1,2,3,4,5,6,7,8,10]\n",
    "\n",
    "new_list=list(filter(lambda x:(x%2==0),list1))\n",
    "\n",
    "print(new_list)\n",
    "\n",
    "\n",
    "\n",
    "def filterfunc(n):\n",
    "  return (n%2==0)\n",
    "\n",
    "print(list(filter(filterfunc,list1)))"
   ]
  },
  {
   "cell_type": "code",
   "execution_count": null,
   "metadata": {
    "colab": {
     "base_uri": "https://localhost:8080/"
    },
    "id": "U114if3wzj0Z",
    "outputId": "7fd77204-03dd-466b-9171-497f2b08696e"
   },
   "outputs": [
    {
     "name": "stdout",
     "output_type": "stream",
     "text": [
      "[0, 10, 20, 30, 40, 50, 60, 70, 80, 90]\n",
      "[0, 10, 20, 30, 40, 50, 60, 70, 80, 90]\n"
     ]
    }
   ],
   "source": [
    "#map function\n",
    "\n",
    "list1=range(10)     #[0,1,2,3,4,5,6,7,8,9]\n",
    "\n",
    "new_list=list(map(lambda y:y*10,list1))\n",
    "print(new_list)\n",
    "\n",
    "\n",
    "def mul(n):\n",
    "  return n*10\n",
    "\n",
    "#map function is used to trasform your data \n",
    "# filter function is used to filter out selected data from a larger data\n",
    "\n",
    "print(list(map(mul,list1)))\n"
   ]
  },
  {
   "cell_type": "code",
   "execution_count": null,
   "metadata": {
    "colab": {
     "base_uri": "https://localhost:8080/"
    },
    "id": "D2GGuWD_0sNm",
    "outputId": "63ae7dc9-56ac-46f1-dfd5-6ae467120993"
   },
   "outputs": [
    {
     "name": "stdout",
     "output_type": "stream",
     "text": [
      "The Zen of Python, by Tim Peters\n",
      "\n",
      "Beautiful is better than ugly.\n",
      "Explicit is better than implicit.\n",
      "Simple is better than complex.\n",
      "Complex is better than complicated.\n",
      "Flat is better than nested.\n",
      "Sparse is better than dense.\n",
      "Readability counts.\n",
      "Special cases aren't special enough to break the rules.\n",
      "Although practicality beats purity.\n",
      "Errors should never pass silently.\n",
      "Unless explicitly silenced.\n",
      "In the face of ambiguity, refuse the temptation to guess.\n",
      "There should be one-- and preferably only one --obvious way to do it.\n",
      "Although that way may not be obvious at first unless you're Dutch.\n",
      "Now is better than never.\n",
      "Although never is often better than *right* now.\n",
      "If the implementation is hard to explain, it's a bad idea.\n",
      "If the implementation is easy to explain, it may be a good idea.\n",
      "Namespaces are one honking great idea -- let's do more of those!\n"
     ]
    }
   ],
   "source": [
    "#importing packages in python\n",
    "import numpy as np\n",
    "import pandas as pd\n",
    "import matplotlib.pyplot as plt\n",
    "import this\n",
    "import seaborn as sb\n",
    "\n",
    "\n",
    "import tensorflow as tf\n",
    "\n",
    "\n",
    "\n"
   ]
  },
  {
   "cell_type": "code",
   "execution_count": null,
   "metadata": {
    "colab": {
     "base_uri": "https://localhost:8080/"
    },
    "id": "q-pNuu__1tIc",
    "outputId": "177fbeac-9977-45a7-a80f-e4d930a862a4"
   },
   "outputs": [
    {
     "name": "stdout",
     "output_type": "stream",
     "text": [
      "3.141592653589793\n",
      "-1.0\n"
     ]
    }
   ],
   "source": [
    "import math as m\n",
    "\n",
    "\n",
    "print(m.pi)\n",
    "print(m.cos(m.pi))"
   ]
  },
  {
   "cell_type": "code",
   "execution_count": null,
   "metadata": {
    "colab": {
     "base_uri": "https://localhost:8080/"
    },
    "id": "lgGkwZYY173F",
    "outputId": "3c547a1b-f6c7-46e0-d275-28d7b4e96181"
   },
   "outputs": [
    {
     "name": "stdout",
     "output_type": "stream",
     "text": [
      "3.141592653589793\n",
      "-1.0\n"
     ]
    }
   ],
   "source": [
    "import math as mt\n",
    "\n",
    "\n",
    "print(mt.pi)\n",
    "print(mt.cos(mt.pi))"
   ]
  },
  {
   "cell_type": "code",
   "execution_count": 10,
   "metadata": {
    "id": "NbCgJ2HnVaDc"
   },
   "outputs": [
    {
     "data": {
      "text/plain": [
       "3.141592653589793"
      ]
     },
     "execution_count": 10,
     "metadata": {},
     "output_type": "execute_result"
    }
   ],
   "source": [
    "-"
   ]
  },
  {
   "cell_type": "code",
   "execution_count": 14,
   "metadata": {},
   "outputs": [
    {
     "data": {
      "text/plain": [
       "-0.9540914674728181"
      ]
     },
     "execution_count": 14,
     "metadata": {},
     "output_type": "execute_result"
    }
   ],
   "source": [
    "math.sin(90*(180/math.pi))"
   ]
  },
  {
   "cell_type": "code",
   "execution_count": null,
   "metadata": {},
   "outputs": [],
   "source": []
  }
 ],
 "metadata": {
  "colab": {
   "collapsed_sections": [],
   "provenance": []
  },
  "kernelspec": {
   "display_name": "Python 3 (ipykernel)",
   "language": "python",
   "name": "python3"
  },
  "language_info": {
   "codemirror_mode": {
    "name": "ipython",
    "version": 3
   },
   "file_extension": ".py",
   "mimetype": "text/x-python",
   "name": "python",
   "nbconvert_exporter": "python",
   "pygments_lexer": "ipython3",
   "version": "3.10.5"
  }
 },
 "nbformat": 4,
 "nbformat_minor": 1
}
