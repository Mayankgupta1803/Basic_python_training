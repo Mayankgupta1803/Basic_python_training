{
 "cells": [
  {
   "cell_type": "code",
   "execution_count": null,
   "metadata": {
    "id": "8OukDMuMhKn2"
   },
   "outputs": [],
   "source": [
    "#python flow control"
   ]
  },
  {
   "cell_type": "code",
   "execution_count": null,
   "metadata": {
    "id": "qoLvF5HNiPpa"
   },
   "outputs": [],
   "source": [
    "#condition statement\n",
    "# if else statements\n",
    "\n",
    "# if condition :\n",
    "#     statements\n",
    "# elif condition:\n",
    "#   statement\n",
    "# else:\n",
    "#   statement"
   ]
  },
  {
   "cell_type": "code",
   "execution_count": null,
   "metadata": {
    "colab": {
     "base_uri": "https://localhost:8080/"
    },
    "id": "2C3DeMknitPx",
    "outputId": "1a32a7a0-6c31-4712-c5d1-134207fd4fc8"
   },
   "outputs": [
    {
     "name": "stdout",
     "output_type": "stream",
     "text": [
      "-0\n",
      "0 is a positive number\n"
     ]
    }
   ],
   "source": [
    "num=int(input())\n",
    "if num>=0:    #true\n",
    "  print(num , \"is a positive number\")\n",
    "else :\n",
    "  print(num, \"is a negetive number\")\n",
    "\n"
   ]
  },
  {
   "cell_type": "code",
   "execution_count": null,
   "metadata": {
    "colab": {
     "base_uri": "https://localhost:8080/"
    },
    "id": "M4A5LvrPjDYr",
    "outputId": "eea704fb-66e2-4764-c76b-eb416669c8c6"
   },
   "outputs": [
    {
     "name": "stdout",
     "output_type": "stream",
     "text": [
      "negetiive number\n"
     ]
    }
   ],
   "source": [
    "num=-10\n",
    " \n",
    "if num>0:\n",
    "  print(\"postive number\")\n",
    "elif num==0:   #else if\n",
    "  print(0)\n",
    "elif (num<0 and num>=-10 ) :\n",
    "  print(\"negetiive number\")"
   ]
  },
  {
   "cell_type": "code",
   "execution_count": null,
   "metadata": {
    "colab": {
     "base_uri": "https://localhost:8080/"
    },
    "id": "MmCjn8whja2p",
    "outputId": "f065f59a-6fd7-434e-ff04-f9954b609624"
   },
   "outputs": [
    {
     "name": "stdout",
     "output_type": "stream",
     "text": [
      "less than 10\n",
      "d\n"
     ]
    }
   ],
   "source": [
    "#nested if else statement\n",
    "num=5\n",
    "\n",
    "if num>0 :  \n",
    "  if num>10:\n",
    "    print(\"greater than 10\")\n",
    "  else:\n",
    "    print(\"less than 10\")\n",
    "else :\n",
    "  if num<-10:\n",
    "    print(\"less than -10\")\n",
    "  else:\n",
    "    print(\"greater than -10\")\n",
    "\n",
    "\n",
    "\n",
    "\n",
    "grade=60\n",
    "if grade>90:\n",
    "  print('a')\n",
    "elif grade>80:\n",
    "  print('b')\n",
    "elif grade>70:\n",
    "  print('c')\n",
    "else:\n",
    "  print('d')\n",
    "\n",
    "\n",
    "\n",
    "grade=60\n",
    "if grade>90:\n",
    "  print('a')\n",
    "elif grade>80:\n",
    "  print('b')\n",
    "elif grade>70:\n",
    "  print('c')\n",
    "elif grade==70:\n",
    "  print('d')\n",
    "\n"
   ]
  },
  {
   "cell_type": "code",
   "execution_count": null,
   "metadata": {
    "colab": {
     "base_uri": "https://localhost:8080/"
    },
    "id": "gdlPcGMzj4PC",
    "outputId": "6db4d748-11ed-4ce5-a4d8-b25778305dbe"
   },
   "outputs": [
    {
     "name": "stdout",
     "output_type": "stream",
     "text": [
      "s\n",
      "t\n",
      "r\n",
      "i\n",
      "n\n",
      "g\n"
     ]
    }
   ],
   "source": [
    "# # #python loops\n",
    "# # 2 types of loops in python\n",
    "# # for loop and while loop\n",
    "\n",
    "\n",
    "# for loop\n",
    "\n",
    "''' \n",
    "for loop_var in iteratable_object(list,dictionary,string):\n",
    "  print(loop_var)\n",
    "'''\n",
    "\n",
    "s=\"string\"     #string \n",
    "for character in s:\n",
    "  print(character)"
   ]
  },
  {
   "cell_type": "code",
   "execution_count": null,
   "metadata": {
    "colab": {
     "base_uri": "https://localhost:8080/"
    },
    "id": "CuIE_fFhkZlw",
    "outputId": "4da07990-7a2d-4d72-b268-9cd6d26a3f45"
   },
   "outputs": [
    {
     "name": "stdout",
     "output_type": "stream",
     "text": [
      "1\n",
      "22\n",
      "13\n",
      "4\n",
      "51\n",
      "abcd\n",
      "1.0\n",
      "[1, 2, 3]\n",
      "{1: 2}\n",
      "\n",
      "1\n",
      "13\n",
      "51\n",
      "1.0\n",
      "{1: 2}\n"
     ]
    }
   ],
   "source": [
    "items=[1,22,13,4,51,'abcd',1.0,[1,2,3],{1:2}]\n",
    "\n",
    "for item in items:     #list\n",
    "  print(item)\n",
    "\n",
    "print()\n",
    "for index,item in enumerate(items):    #return index as well item simultaeneously\n",
    "  if index%2==0:                       #modulus return remainder after division\n",
    "    print(item)"
   ]
  },
  {
   "cell_type": "code",
   "execution_count": null,
   "metadata": {
    "colab": {
     "base_uri": "https://localhost:8080/"
    },
    "id": "4ykoHs8E8TyP",
    "outputId": "2f55019a-dd09-4655-f0e2-0eea2bf53b92"
   },
   "outputs": [
    {
     "name": "stdout",
     "output_type": "stream",
     "text": [
      "1\n",
      "3\n",
      "5\n",
      "7\n",
      "9\n",
      "[1, 3, 5, 7, 9]\n"
     ]
    }
   ],
   "source": [
    "for i in range(1,11,2):\n",
    "  print(i)\n",
    "\n",
    "\n",
    "print(list(range(1,10,2)))"
   ]
  },
  {
   "cell_type": "code",
   "execution_count": null,
   "metadata": {
    "colab": {
     "base_uri": "https://localhost:8080/"
    },
    "id": "kF53qKorkl6N",
    "outputId": "dcacb2ab-7a54-4ba8-d32a-f81c3d86229b"
   },
   "outputs": [
    {
     "name": "stdout",
     "output_type": "stream",
     "text": [
      "10\n",
      "50\n",
      "\n",
      "0 10\n",
      "1 20\n",
      "2 30\n",
      "3 40\n",
      "4 50\n"
     ]
    }
   ],
   "source": [
    "a=[10,20,30,40,50]\n",
    "  # 0  1  2  3  4\n",
    "\n",
    "print(a[0])\n",
    "print(a[4])\n",
    "\n",
    "print()\n",
    "\n",
    "for id,num in enumerate(a):\n",
    "  print(id, num, sep=' ')"
   ]
  },
  {
   "cell_type": "code",
   "execution_count": null,
   "metadata": {
    "colab": {
     "base_uri": "https://localhost:8080/"
    },
    "id": "EU5JPWYRk1oC",
    "outputId": "e586ffb0-0a41-463b-daaa-85161eb17015"
   },
   "outputs": [
    {
     "name": "stdout",
     "output_type": "stream",
     "text": [
      "[0, 1, 2, 3, 4, 5, 6, 7, 8, 9]\n",
      "5\n",
      "10\n",
      "15\n",
      "20\n",
      "[10, 9, 8, 7, 6, 5, 4, 3, 2, 1, 0]\n",
      "10\n",
      "9\n",
      "8\n",
      "7\n",
      "6\n",
      "5\n",
      "4\n",
      "3\n",
      "2\n",
      "1\n",
      "0\n"
     ]
    }
   ],
   "source": [
    "print(list(range(10)))   #range function in python\n",
    "\n",
    "for i in range(5,21,5):\n",
    "  print (i)\n",
    "\n",
    "print(list(range(10,-1,-1)))\n",
    "\n",
    "\n",
    "for i in range(10,-1,-1):\n",
    "  print(i)"
   ]
  },
  {
   "cell_type": "code",
   "execution_count": null,
   "metadata": {
    "colab": {
     "base_uri": "https://localhost:8080/"
    },
    "id": "5C0tN9MBlRqQ",
    "outputId": "1888eb80-ec3b-4817-ce65-1af3ce6e0633"
   },
   "outputs": [
    {
     "name": "stdout",
     "output_type": "stream",
     "text": [
      "12345678\n",
      "8\n",
      "7\n",
      "6\n",
      "5\n",
      "4\n",
      "3\n",
      "2\n",
      "1\n"
     ]
    }
   ],
   "source": [
    "# # #while statement\n",
    "# # it is used to iterate over a block of code till the statement is true\n",
    "\n",
    "#while condition:\n",
    "#   statement\n",
    " \n",
    "\n",
    "num=int(input())\n",
    "'''\n",
    "12345\n",
    "1234\n",
    "123\n",
    "12\n",
    "1\n",
    "'''\n",
    "while num>0:\n",
    "  print(int(num%10))\n",
    "  num=(int)(num/10)\n",
    "  \n"
   ]
  },
  {
   "cell_type": "code",
   "execution_count": null,
   "metadata": {
    "colab": {
     "base_uri": "https://localhost:8080/"
    },
    "id": "OIBg-ekFl7Vi",
    "outputId": "77190ba0-6fd4-4c13-a194-e97bb88d913c"
   },
   "outputs": [
    {
     "name": "stdout",
     "output_type": "stream",
     "text": [
      "5\n",
      "\n",
      "1\n",
      "2\n",
      "3\n",
      "4\n",
      "5\n",
      "15\n"
     ]
    }
   ],
   "source": [
    "i=0\n",
    "a=[1,2,3,4,5]\n",
    "#  0 1 2 3 4 \n",
    "print(len(a))\n",
    "print()\n",
    "sum=0\n",
    "while i<len(a):\n",
    "  print(a[i])\n",
    "  sum=sum+a[i]\n",
    "  i=i+1\n",
    "\n",
    "\n",
    "print(sum)\n"
   ]
  },
  {
   "cell_type": "code",
   "execution_count": null,
   "metadata": {
    "colab": {
     "base_uri": "https://localhost:8080/"
    },
    "id": "Wy-jiW3YmGC5",
    "outputId": "82ee3f17-cda1-4db7-b762-1f378b7a5fe5"
   },
   "outputs": [
    {
     "name": "stdout",
     "output_type": "stream",
     "text": [
      "0\n",
      "1\n",
      "2\n",
      "3\n",
      "break statement executed\n",
      "0\n",
      "1\n",
      "2\n",
      "0\n",
      "1\n",
      "2\n",
      "0\n",
      "1\n",
      "2\n"
     ]
    }
   ],
   "source": [
    "#break continue and pass\n",
    "#break statement if used to break the execution of the for/while loop and come out of the loop\n",
    "\n",
    "\n",
    "for i in range(10):\n",
    "  if i==4:\n",
    "    break\n",
    "  print(i)\n",
    "\n",
    "\n",
    "print(\"break statement executed\")\n",
    "\n",
    "for i in range(4):\n",
    "  for j in range(4):\n",
    "    if j==3:\n",
    "      break\n",
    "    print(j)\n",
    "  if i==2:\n",
    "    break"
   ]
  },
  {
   "cell_type": "code",
   "execution_count": null,
   "metadata": {
    "colab": {
     "base_uri": "https://localhost:8080/"
    },
    "id": "pZ7T-En-mTrO",
    "outputId": "10787794-0e25-4c89-bffb-170101eb9352"
   },
   "outputs": [
    {
     "name": "stdout",
     "output_type": "stream",
     "text": [
      "0\n",
      "1\n",
      "2\n",
      "3\n",
      "4\n",
      "6\n",
      "7\n",
      "8\n",
      "9\n"
     ]
    }
   ],
   "source": [
    "#continue statement is used to trnasfer the execution of the loop to the next iteration . it skips the execution of that particular code if contiue statement is met\n",
    "\n",
    "for i in range(10):\n",
    "  if i==5:\n",
    "    continue\n",
    "  print(i)"
   ]
  },
  {
   "cell_type": "code",
   "execution_count": null,
   "metadata": {
    "colab": {
     "base_uri": "https://localhost:8080/"
    },
    "id": "uPRx9hPhnPAH",
    "outputId": "147a1ede-d585-451c-a655-2542b37c2de3"
   },
   "outputs": [
    {
     "name": "stdout",
     "output_type": "stream",
     "text": [
      "pass statement was executed\n"
     ]
    }
   ],
   "source": [
    "a=[1,2,3,4,5]\n",
    "for i in a:\n",
    "  pass\n",
    "\n",
    "print(\"pass statement was executed\")"
   ]
  },
  {
   "cell_type": "code",
   "execution_count": null,
   "metadata": {
    "colab": {
     "base_uri": "https://localhost:8080/"
    },
    "id": "CLWQkif_nlok",
    "outputId": "3bf8d9ce-1fc6-4c9a-8abe-f4fae8deaea0"
   },
   "outputs": [
    {
     "name": "stdout",
     "output_type": "stream",
     "text": [
      "56\n",
      "12\n",
      "90\n"
     ]
    }
   ],
   "source": [
    "#print all even numbers in the list\n",
    "a=[23,56,12,45,90]\n",
    "\n",
    "for i in a:\n",
    "  if i%2==0:\n",
    "    print(i)\n"
   ]
  },
  {
   "cell_type": "code",
   "execution_count": null,
   "metadata": {
    "id": "v0uz_dESqcrk"
   },
   "outputs": [],
   "source": [
    "# #python functions\n",
    "# a function is a group of statement that perform a particular type of task\n",
    "# it is used so thta a particular kind of repetitive task can be performed again and again without rewriting the code\n"
   ]
  },
  {
   "cell_type": "code",
   "execution_count": null,
   "metadata": {
    "id": "_a2blPkirLBR"
   },
   "outputs": [],
   "source": [
    "# def function_name(parameter):\n",
    "#   \"doctring\"  optional\n",
    "#   statements\n",
    "\n",
    "\n",
    "def addition():\n",
    "  a=10\n",
    "  b=20\n",
    "  print(a+b)"
   ]
  },
  {
   "cell_type": "code",
   "execution_count": null,
   "metadata": {
    "colab": {
     "base_uri": "https://localhost:8080/"
    },
    "id": "WJAEAAdYrhVF",
    "outputId": "47855744-6e66-4264-c30f-9a78be0c15cd"
   },
   "outputs": [
    {
     "name": "stdout",
     "output_type": "stream",
     "text": [
      "30\n",
      "30\n"
     ]
    }
   ],
   "source": [
    "addition()\n",
    "addition()"
   ]
  },
  {
   "cell_type": "code",
   "execution_count": null,
   "metadata": {
    "id": "gM21dpWQrq-c"
   },
   "outputs": [],
   "source": [
    "def addition(num1,num2):#num1 and num2 are the parameter that are provided by the user\n",
    "    ''' it takes two numbers as parameter and return the sum  '''\n",
    "    print(num1+num2)"
   ]
  },
  {
   "cell_type": "code",
   "execution_count": null,
   "metadata": {
    "colab": {
     "base_uri": "https://localhost:8080/",
     "height": 70
    },
    "id": "oe2d0t1bsCCR",
    "outputId": "e08b38e3-a06e-4d72-95f8-4310449b6c46"
   },
   "outputs": [
    {
     "name": "stdout",
     "output_type": "stream",
     "text": [
      "3\n",
      "33\n"
     ]
    },
    {
     "data": {
      "application/vnd.google.colaboratory.intrinsic+json": {
       "type": "string"
      },
      "text/plain": [
       "' it takes two numbers as parameter and return the sum  '"
      ]
     },
     "execution_count": 30,
     "metadata": {},
     "output_type": "execute_result"
    }
   ],
   "source": [
    "addition(1,2)\n",
    "addition(10,23)\n",
    "addition.__doc__\n"
   ]
  },
  {
   "cell_type": "code",
   "execution_count": null,
   "metadata": {
    "id": "VV4yKmNQsF5K"
   },
   "outputs": [],
   "source": [
    "addition.__doc__"
   ]
  },
  {
   "cell_type": "code",
   "execution_count": null,
   "metadata": {
    "id": "Aaqb7vM-sowK"
   },
   "outputs": [],
   "source": [
    "#user passed parameters and oteher is default parameter\n",
    "\n",
    "def greet(name,msg=\"good morning\"):\n",
    "  print(name, msg,sep=\" \")"
   ]
  },
  {
   "cell_type": "code",
   "execution_count": null,
   "metadata": {
    "colab": {
     "base_uri": "https://localhost:8080/"
    },
    "id": "YPRJmS5Gs0hx",
    "outputId": "f3bd2011-811d-4fe4-d39d-f7b05270c9e9"
   },
   "outputs": [
    {
     "name": "stdout",
     "output_type": "stream",
     "text": [
      "srk good morning\n",
      "how are you hello\n"
     ]
    }
   ],
   "source": [
    "greet(name=\"srk\")\n",
    "greet(msg=\"hello\",name=\"how are you\")"
   ]
  },
  {
   "cell_type": "code",
   "execution_count": null,
   "metadata": {
    "id": "wUnsv1BFs5w-"
   },
   "outputs": [],
   "source": []
  }
 ],
 "metadata": {
  "colab": {
   "provenance": []
  },
  "kernelspec": {
   "display_name": "Python 3 (ipykernel)",
   "language": "python",
   "name": "python3"
  },
  "language_info": {
   "codemirror_mode": {
    "name": "ipython",
    "version": 3
   },
   "file_extension": ".py",
   "mimetype": "text/x-python",
   "name": "python",
   "nbconvert_exporter": "python",
   "pygments_lexer": "ipython3",
   "version": "3.10.5"
  }
 },
 "nbformat": 4,
 "nbformat_minor": 1
}
