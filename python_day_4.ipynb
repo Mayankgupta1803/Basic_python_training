{
 "cells": [
  {
   "cell_type": "code",
   "execution_count": null,
   "metadata": {
    "colab": {
     "base_uri": "https://localhost:8080/"
    },
    "id": "QQl4rGIT2sFl",
    "outputId": "df565587-5aa4-4e00-d087-eeab247798e0"
   },
   "outputs": [
    {
     "name": "stdout",
     "output_type": "stream",
     "text": [
      "[]  [1, 2, 3, 4]  [1, 2, 3, 'hello', 3.3]  [1, 2, 3, 'hi', [5, 6, [1, 2, 3], 7]]\n"
     ]
    }
   ],
   "source": [
    "# #python list\n",
    "# list:- list is a array which can store any kind of data. It is used to store multiplle values inside a single container\n",
    "\n",
    "list1=[]   #empty list\n",
    "list2=[1,2,3,4]\n",
    "\n",
    "list3=[1,2,3,\"hello\",3.3]\n",
    "\n",
    "list4=[1,2,3,\"hi\",[5,6,[1,2,3],7]]     #nested list\n",
    "\n",
    "print(list1,list2,list3,list4,sep=\"  \")  "
   ]
  },
  {
   "cell_type": "code",
   "execution_count": null,
   "metadata": {
    "colab": {
     "base_uri": "https://localhost:8080/"
    },
    "id": "zY1aycFS3e87",
    "outputId": "66be3247-4667-48e5-81de-128cf71b894d"
   },
   "outputs": [
    {
     "name": "stdout",
     "output_type": "stream",
     "text": [
      "2\n",
      "i\n",
      "1\n",
      "hi1\n",
      "5\n",
      "1 hi1\n",
      "[3, 'hi1']\n",
      "[5, 6, [1, 2, 3], 7]\n",
      "hi1\n",
      "3\n",
      "1\n",
      "3\n"
     ]
    }
   ],
   "source": [
    "# #accessing the elements inside the list\n",
    "\n",
    "# indexing in any programming language starts from 0 and also in python it starts from 0\n",
    "list4=[1,2,3,\"hi1\",[5,6,[1,2,3],7]] \n",
    "\n",
    "print(list4[1])     #2\n",
    "print(list4[3][1])   #i\n",
    "\n",
    "print(list4[0])     #1\n",
    "\n",
    "print(list4[-2])    #hi1\n",
    "\n",
    "print(len(list4))     # indexing will start from 0 to (len(list)-1)   5\n",
    "\n",
    "\n",
    "print(list4[0], list4[3], sep=\" \")\n",
    "\n",
    "print(list4[2:4])        #slicing   3\n",
    "\n",
    "print(list4[-1])\n",
    "\n",
    "print(list4[-2])\n",
    "print(list4[-3])\n",
    "\n",
    "\n",
    "print(list3[0])\n",
    "print(list3[2])\n"
   ]
  },
  {
   "cell_type": "code",
   "execution_count": null,
   "metadata": {
    "colab": {
     "base_uri": "https://localhost:8080/"
    },
    "id": "KWdB4hlR4aDs",
    "outputId": "703330a4-3868-4e62-a012-396b43fc9ba9"
   },
   "outputs": [
    {
     "name": "stdout",
     "output_type": "stream",
     "text": [
      "[1, 2, 3, 4]\n",
      "[2, 3, 4]\n",
      "[3, 4, 5, 6]\n",
      "[3, 4, 5, 6]\n",
      "[1, 2, 3, 4]\n",
      "[3, 5]\n",
      "[2, 5]\n",
      "[1, 2, 3, 4, 5, 6]\n",
      "[6, 5, 4, 3, 2, 1]\n",
      "[6, 4, 2]\n"
     ]
    }
   ],
   "source": [
    "#slicing  :- it is used to access a range of elements from a contianer(list)  \n",
    "list4=[1,2,3,4,5,6]\n",
    "#      0 1 2 3 4 5\n",
    "#              -2  -1\n",
    "print(list4[0:4])       #it will make a new list containing all element from 0 to 3\n",
    "print(list4[-5:-2])\n",
    "\n",
    "print(list4[2:len(list4)])\n",
    "print(list4[2:])\n",
    "print(list4[:4])\n",
    "print(list4[2::2])\n",
    "print(list4[1::3])\n",
    "print(list4[:])\n",
    "print(list4[::-1])\n",
    "print(list4[::-2])\n"
   ]
  },
  {
   "cell_type": "code",
   "execution_count": null,
   "metadata": {
    "colab": {
     "base_uri": "https://localhost:8080/"
    },
    "id": "4aOy4wRVxfY1",
    "outputId": "d87a485b-3d40-4de6-c324-5638cee3e0e5"
   },
   "outputs": [
    {
     "name": "stdout",
     "output_type": "stream",
     "text": [
      "[[5, 6, [1, 2, 3], 7], 4, 2]\n"
     ]
    }
   ],
   "source": [
    "list2=[1,2,3,4,\"hi\",[5,6,[1,2,3],7]]\n",
    "print(list2[::-2])\n"
   ]
  },
  {
   "cell_type": "code",
   "execution_count": null,
   "metadata": {
    "colab": {
     "base_uri": "https://localhost:8080/"
    },
    "id": "8mFVbbaW6hGA",
    "outputId": "68310728-7b23-4c60-c65a-1a6f44f35cfb"
   },
   "outputs": [
    {
     "name": "stdout",
     "output_type": "stream",
     "text": [
      "[1, 4, 6, 8, 10]\n",
      "[1, 4, 4, 17, 10]\n"
     ]
    }
   ],
   "source": [
    "# #adding and changing list items\n",
    "\n",
    "# lists are mutable :- the values inside a list can be changed they can be removed inserted adn updated\n",
    "\n",
    "#updating a list\n",
    "l1=[2,4,6,8,10]\n",
    "l1[0]=1\n",
    "print(l1)\n",
    "\n",
    "l1[2:4]=[4,17]\n",
    "print(l1)\n"
   ]
  },
  {
   "cell_type": "code",
   "execution_count": null,
   "metadata": {
    "colab": {
     "base_uri": "https://localhost:8080/"
    },
    "id": "gk-supVk8DNP",
    "outputId": "fbf512d0-99d7-4e45-fdd3-7a901de9ebdb"
   },
   "outputs": [
    {
     "name": "stdout",
     "output_type": "stream",
     "text": [
      "[1, 2, 3, 4, 5, 7]\n",
      "[1, 2, 3, 4, 5, 7, 10, 11, 12]\n",
      "[1, 2, 3, 4, 5, 7, 10, 11, 12, [10, 11, 12]]\n",
      "[1, 2, 3, 4, 5, 6, 7, 10, 11, 12, [10, 11, 12]]\n",
      "[1, 2, 3, 4, 'hi', [5, 6, [1, 2, 3], 7], [1, 2, 3, 4, 5]]\n"
     ]
    }
   ],
   "source": [
    "#how to add a particular value in a list\n",
    "l1=[1,2,3,4,5]\n",
    "\n",
    "l1.append(7)    #append cmd inserts elements at the end of the list\n",
    "print(l1)\n",
    "\n",
    "l1.extend([10,11,12])\n",
    "print(l1)\n",
    "\n",
    "l1.append([10,11,12])\n",
    "print(l1)\n",
    "\n",
    "l1.insert(5,6)\n",
    "print(l1)\n",
    "\n",
    "list2.append([1,2,3,4,5])\n",
    "print(list2)\n"
   ]
  },
  {
   "cell_type": "code",
   "execution_count": null,
   "metadata": {
    "colab": {
     "base_uri": "https://localhost:8080/"
    },
    "id": "gyPDIoF48dw_",
    "outputId": "20b5bcde-5529-491e-e96d-e14543511da3"
   },
   "outputs": [
    {
     "name": "stdout",
     "output_type": "stream",
     "text": [
      "[1, 2, 4, 5]\n",
      "[4, 5]\n",
      "[1, 2, 3]\n"
     ]
    }
   ],
   "source": [
    "#removing items from the list\n",
    "\n",
    "l1=[1,2,3,4,5]\n",
    "\n",
    "del l1[2]\n",
    "print(l1)\n",
    "\n",
    "del l1[0:2]\n",
    "print(l1)\n",
    "\n",
    "l1=[1,2,3,4,5]\n",
    "del l1[-2:]\n",
    "print(l1)\n"
   ]
  },
  {
   "cell_type": "code",
   "execution_count": null,
   "metadata": {
    "colab": {
     "base_uri": "https://localhost:8080/"
    },
    "id": "rzWG5XsR9Bvn",
    "outputId": "e5c31cbd-3440-4911-93c7-ce12acc4569c"
   },
   "outputs": [
    {
     "name": "stdout",
     "output_type": "stream",
     "text": [
      "[1, 2, 3, 4]\n",
      "[1, 3, 4]\n",
      "[]\n"
     ]
    }
   ],
   "source": [
    "list4=[1,2,3,4,5]\n",
    "list4.pop()   #pop command is used to remove the elememt from the last\n",
    "\n",
    "print(list4)\n",
    "\n",
    "list4.remove(2)    #remove amd removes a particular element from the list after searching it\n",
    "print(list4)\n",
    "\n",
    "\n",
    "list4.clear()       #remove all element from the list\n",
    "print(list4)\n",
    "\n"
   ]
  },
  {
   "cell_type": "code",
   "execution_count": null,
   "metadata": {
    "colab": {
     "base_uri": "https://localhost:8080/"
    },
    "id": "5pR5SPcE9Hb2",
    "outputId": "5832ff3c-9bda-45b4-8533-918410cb760c"
   },
   "outputs": [
    {
     "name": "stdout",
     "output_type": "stream",
     "text": [
      "[1, 'new ele', 2, 3, 4]\n"
     ]
    }
   ],
   "source": [
    "#adding element\n",
    "list4=[1,2,3,4]\n",
    "list4.insert(1,\"new ele\")\n",
    "print(list4)"
   ]
  },
  {
   "cell_type": "code",
   "execution_count": null,
   "metadata": {
    "colab": {
     "base_uri": "https://localhost:8080/"
    },
    "id": "dx-y4TwU99Gx",
    "outputId": "abc1df66-c1bf-4ef0-c193-4497597c1210"
   },
   "outputs": [
    {
     "name": "stdout",
     "output_type": "stream",
     "text": [
      "3\n"
     ]
    }
   ],
   "source": [
    "#index \n",
    "list4=[1,2,3,4,5,6]\n",
    "print(list4.index(4))    #index command is used to search an element in the list\n",
    "\n"
   ]
  },
  {
   "cell_type": "code",
   "execution_count": null,
   "metadata": {
    "colab": {
     "base_uri": "https://localhost:8080/"
    },
    "id": "KV3gvYQH-NWF",
    "outputId": "b36766e1-a351-4a22-ec22-f9d563e5362b"
   },
   "outputs": [
    {
     "name": "stdout",
     "output_type": "stream",
     "text": [
      "[5, 4, 3, 2, 1]\n",
      "[1, 2, 3, 4, 5]\n"
     ]
    }
   ],
   "source": [
    "#reverse command is used to reverse a list\n",
    "list1=[1,2,3,4,5]\n",
    "list1.reverse()\n",
    "print(list1)\n",
    "\n",
    "\n",
    "list1=list1[::-1]\n",
    "print(list1)"
   ]
  },
  {
   "cell_type": "code",
   "execution_count": null,
   "metadata": {
    "colab": {
     "base_uri": "https://localhost:8080/"
    },
    "id": "xCJ48hr3-dxf",
    "outputId": "4b13bdbd-1f88-4f52-b69e-a44d67bb3e66"
   },
   "outputs": [
    {
     "name": "stdout",
     "output_type": "stream",
     "text": [
      "[6, 4, 3, 2, 1]\n"
     ]
    }
   ],
   "source": [
    "#sort command\n",
    "li=[3,1,4,6,2]\n",
    "li.sort(reverse=True)\n",
    "print(li)"
   ]
  },
  {
   "cell_type": "code",
   "execution_count": null,
   "metadata": {
    "colab": {
     "base_uri": "https://localhost:8080/"
    },
    "id": "qlYVj7qa-1I2",
    "outputId": "aa8a09ef-2f0d-44dd-c35b-e0afe98cffcc"
   },
   "outputs": [
    {
     "name": "stdout",
     "output_type": "stream",
     "text": [
      "[1, 3, 4, 5]\n",
      "[3, 4, 1, 5]\n",
      "[1, 3, 4, 5]\n",
      "[3, 4, 1, 5]\n"
     ]
    }
   ],
   "source": [
    "#sorted command\n",
    "l1=[3,4,1,5]\n",
    "print(sorted(l1)) \n",
    "print(l1)   #does not change the list only sorts in memory but does not save it. the original list is preserved\n",
    "l2=sorted(l1)\n",
    "print(l2)\n",
    "print(l1)"
   ]
  },
  {
   "cell_type": "code",
   "execution_count": null,
   "metadata": {
    "id": "lMjoO1ChAFrB"
   },
   "outputs": [],
   "source": []
  }
 ],
 "metadata": {
  "colab": {
   "provenance": []
  },
  "kernelspec": {
   "display_name": "Python 3 (ipykernel)",
   "language": "python",
   "name": "python3"
  },
  "language_info": {
   "codemirror_mode": {
    "name": "ipython",
    "version": 3
   },
   "file_extension": ".py",
   "mimetype": "text/x-python",
   "name": "python",
   "nbconvert_exporter": "python",
   "pygments_lexer": "ipython3",
   "version": "3.10.5"
  }
 },
 "nbformat": 4,
 "nbformat_minor": 1
}
