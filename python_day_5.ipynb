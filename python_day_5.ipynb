{
 "cells": [
  {
   "cell_type": "code",
   "execution_count": null,
   "metadata": {
    "id": "pX-Z4Ly74vF8"
   },
   "outputs": [],
   "source": [
    "#dictionary and set\n"
   ]
  },
  {
   "cell_type": "code",
   "execution_count": null,
   "metadata": {
    "id": "hzP91Ymu_xnZ"
   },
   "outputs": [],
   "source": [
    "# # dictionary is a unordered collection of items. each value in a dictionary is a key value pair.\n",
    "\n",
    "# 5:- \"name\"\n",
    "# [1,2,3,,4,56,7,9,10]  O(n) time complexity to access the element in the lsit\n",
    "\n",
    "# dict[1]=1\n",
    "# dict[2]=1\n",
    "# dict[3]=1\n",
    "\n",
    "# print(dict[8])     O(1) time complexity\n",
    "\n"
   ]
  },
  {
   "cell_type": "code",
   "execution_count": null,
   "metadata": {
    "colab": {
     "base_uri": "https://localhost:8080/"
    },
    "id": "Zo32PcQqA0ed",
    "outputId": "820eedf5-3ed6-44d6-a5d7-3e31fb61f734"
   },
   "outputs": [
    {
     "name": "stdout",
     "output_type": "stream",
     "text": [
      "1\n",
      "2\n",
      "3\n",
      "4\n",
      "5\n",
      "found\n"
     ]
    }
   ],
   "source": [
    "a=[1,2,3,4,5,6]       \n",
    "num=6\n",
    "for i in a:\n",
    "  if i==num:\n",
    "    print(\"found\")\n",
    "    break     #O(n)\n",
    "  print(i)\n"
   ]
  },
  {
   "cell_type": "code",
   "execution_count": null,
   "metadata": {
    "colab": {
     "base_uri": "https://localhost:8080/"
    },
    "id": "8vjcuQr-BNpm",
    "outputId": "11ac00ed-5c41-4e06-d988-9b6dd8c1507f"
   },
   "outputs": [
    {
     "name": "stdout",
     "output_type": "stream",
     "text": [
      "True\n",
      "not found\n"
     ]
    }
   ],
   "source": [
    "dict1={1:True,2:True,3:True,4:True,5:True,6:True}\n",
    "print(dict1[5])\n",
    "print(dict1.get(9,\"not found\"))     #O(1) time "
   ]
  },
  {
   "cell_type": "code",
   "execution_count": null,
   "metadata": {
    "id": "pGnC7uBpBeL6"
   },
   "outputs": [],
   "source": [
    "my_dict={}    #empty dict\n",
    "a={1:\"one\",2:\"two\",3:\"three\"}     #with values\n",
    "b={\"list\":[1,2,3,4,5],\"list2\":[12,3],4:\"45\"}    #with values"
   ]
  },
  {
   "cell_type": "code",
   "execution_count": null,
   "metadata": {
    "colab": {
     "base_uri": "https://localhost:8080/"
    },
    "id": "eok3_wU4B7f1",
    "outputId": "5980f26f-4a2f-4989-bae0-55f0be8e6a8b"
   },
   "outputs": [
    {
     "name": "stdout",
     "output_type": "stream",
     "text": [
      "one\n",
      "rahul\n",
      "key not found\n",
      "dict_values(['one', 'two', 'three', 'rahul'])\n"
     ]
    },
    {
     "data": {
      "text/plain": [
       "dict_items([(1, 'one'), (2, 'two'), (3, 'three'), ('name', 'rahul')])"
      ]
     },
     "execution_count": 8,
     "metadata": {},
     "output_type": "execute_result"
    }
   ],
   "source": [
    "#acessing elements in the list\n",
    "a={1:\"one\",2:\"two\",3:\"three\",\"name\":\"rahul\"}\n",
    "\n",
    "\n",
    "print(a[1])\n",
    "print(a[\"name\"])    \n",
    "#print(a[4])\n",
    "print(a.get(4,\"key not found\"))\n",
    "print(a.values())\n",
    "a.items()"
   ]
  },
  {
   "cell_type": "code",
   "execution_count": null,
   "metadata": {
    "colab": {
     "base_uri": "https://localhost:8080/"
    },
    "id": "2Cvo0wOtCMfV",
    "outputId": "6b40e9f7-9453-48f3-9601-779a69083f5f"
   },
   "outputs": [
    {
     "name": "stdout",
     "output_type": "stream",
     "text": [
      "{1: 'one', 2: 'two', 3: 'three', 'name': 'rahul'}\n",
      "{1: 'one', 2: 'two', 3: 'three', 'name': 'rahul', 4: 'four'}\n"
     ]
    }
   ],
   "source": [
    "#changing and adding elements in the dictionary\n",
    "a={1:\"one\",2:\"tow\",3:\"three\",\"name\":\"rahul\"}\n",
    "\n",
    "a[2]=\"two\"\n",
    "print(a)\n",
    "\n",
    "a[4]=\"four\"\n",
    "print(a)"
   ]
  },
  {
   "cell_type": "code",
   "execution_count": null,
   "metadata": {
    "colab": {
     "base_uri": "https://localhost:8080/"
    },
    "id": "CnN5yyVoDKs0",
    "outputId": "e1cb2fe0-4e00-4e43-95ae-f69e98277865"
   },
   "outputs": [
    {
     "name": "stdout",
     "output_type": "stream",
     "text": [
      "rahul\n",
      "{1: 'one', 2: 'two', 3: 'three'}\n",
      "{1: 'one', 3: 'three'}\n",
      "{}\n"
     ]
    }
   ],
   "source": [
    "#deleting elements from the dictionary\n",
    "a={1:\"one\",2:\"two\",3:\"three\",\"name\":\"rahul\"}\n",
    "\n",
    "print(a.pop('name'))\n",
    "print(a)\n",
    "\n",
    "del a[2]      #to delete a particular element\n",
    "print(a)\n",
    "\n",
    "\n",
    "a.clear()    #to clear the whole dict\n",
    "print(a)\n"
   ]
  },
  {
   "cell_type": "code",
   "execution_count": null,
   "metadata": {
    "colab": {
     "base_uri": "https://localhost:8080/"
    },
    "id": "cs59OjoqDino",
    "outputId": "3296d8a2-937f-44e8-d6ef-7503a43660ec"
   },
   "outputs": [
    {
     "name": "stdout",
     "output_type": "stream",
     "text": [
      "dict_keys([1, 2, 3, 'name'])\n",
      "dict_items([(1, 'one'), (2, 'two'), (3, 'three'), ('name', 'rahul')])\n",
      "{'one': 1, 'two': 2, 'three': 3, 'rahul': 'name'}\n",
      "['one', 'two', 'three', 'rahul']\n"
     ]
    }
   ],
   "source": [
    "a={1:\"one\",2:\"two\",3:\"three\",\"name\":\"rahul\"}\n",
    "\n",
    "print(a.keys())\n",
    "print(a.items())\n",
    "\n",
    "\n",
    "rev_a={v:k for k,v in a.items()}    #adavnced form of a for loop \n",
    "print(rev_a)\n",
    "\n",
    "a=[v for k,v in a.items()]\n",
    "print(a)\n"
   ]
  },
  {
   "cell_type": "code",
   "execution_count": null,
   "metadata": {
    "colab": {
     "base_uri": "https://localhost:8080/"
    },
    "id": "7aXuYvsTEC0B",
    "outputId": "931bfc59-a058-47c5-c85b-33226d4e16a4"
   },
   "outputs": [
    {
     "name": "stdout",
     "output_type": "stream",
     "text": [
      "dict_keys([1, 2, 3, 'name'])\n",
      "dict_items([(1, 'one'), (2, 'two'), (3, 'three'), ('name', 'rahul')])\n",
      "1   one\n",
      "2   two\n",
      "3   three\n",
      "name   rahul\n",
      "{'one': 1, 'two': 2, 'three': 3, 'rahul': 'name'}\n"
     ]
    }
   ],
   "source": [
    "a={1:\"one\",2:\"two\",3:\"three\",\"name\":\"rahul\"}\n",
    "\n",
    "print(a.keys())\n",
    "print(a.items())    #list of tuples   (1,2) (3,4) (4,5)\n",
    "\n",
    "rev={}\n",
    "\n",
    "for k,v in a.items():\n",
    "  print(k,v,sep=\"   \")\n",
    "  rev[v]=k\n",
    "\n",
    "print(rev)\n"
   ]
  },
  {
   "cell_type": "code",
   "execution_count": null,
   "metadata": {
    "colab": {
     "base_uri": "https://localhost:8080/"
    },
    "id": "bk5cKFQ0GQZ-",
    "outputId": "941b36dc-9cf1-40e6-bd69-e287918fa3e1"
   },
   "outputs": [
    {
     "name": "stdout",
     "output_type": "stream",
     "text": [
      "['h', 'e', 'l', 'l', 'o']\n"
     ]
    }
   ],
   "source": [
    "s1=\"hello\"\n",
    "l1=[c for c in s1]\n",
    "print(l1)"
   ]
  },
  {
   "cell_type": "code",
   "execution_count": null,
   "metadata": {
    "colab": {
     "base_uri": "https://localhost:8080/"
    },
    "id": "GDkEAphIEMG9",
    "outputId": "90c7e666-e4b2-48f9-eede-686bd986e16c"
   },
   "outputs": [
    {
     "name": "stdout",
     "output_type": "stream",
     "text": [
      "set()\n",
      "{'1', '3', '4', '2'}\n"
     ]
    }
   ],
   "source": [
    "#set  :- is a ordered collection of items where there will be no duplicates\n",
    "\n",
    "s1=set()  #empty set\n",
    "print(s1)\n",
    "\n",
    "s2={'2','2','3','4','1'}\n",
    "print(s2)"
   ]
  },
  {
   "cell_type": "code",
   "execution_count": null,
   "metadata": {
    "colab": {
     "base_uri": "https://localhost:8080/"
    },
    "id": "aion1ORR-OVL",
    "outputId": "b27cc9d2-cabb-448c-bc38-e535cdd103fa"
   },
   "outputs": [
    {
     "name": "stdout",
     "output_type": "stream",
     "text": [
      "['I', 'am', 'studing', 'at', 'devtown.', 'I', 'am', 'in', 'data', 'science', 'course']\n"
     ]
    },
    {
     "data": {
      "text/plain": [
       "{'I', 'am', 'at', 'course', 'data', 'devtown.', 'in', 'science', 'studing'}"
      ]
     },
     "execution_count": 14,
     "metadata": {},
     "output_type": "execute_result"
    }
   ],
   "source": [
    "s=\"I am studing at devtown. I am in data science course\"\n",
    "words=s.split()\n",
    "print(words)\n",
    "dis_words= set(words)\n",
    "dis_words"
   ]
  },
  {
   "cell_type": "code",
   "execution_count": null,
   "metadata": {
    "colab": {
     "base_uri": "https://localhost:8080/"
    },
    "id": "0AYmNO3NE1F6",
    "outputId": "792d2d9f-45cb-459d-ac74-ed6bbde86a9c"
   },
   "outputs": [
    {
     "name": "stdout",
     "output_type": "stream",
     "text": [
      "{1, 2, 3, 4, 5, 6}\n",
      "{1, 2, 3, 4, 5, 6}\n",
      "{1, 2, 3, 4, 5, 6}\n",
      "{1, 2, 3, 4, 5, 6, 8, 9, 17}\n"
     ]
    }
   ],
   "source": [
    "s1={1,2,3,4,5}\n",
    "s1.add(6)\n",
    "\n",
    "print(s1)\n",
    "\n",
    "s1.add(6)\n",
    "print(s1)\n",
    "\n",
    "\n",
    "s1.add(6)\n",
    "print(s1)\n",
    "\n",
    "s1.update([17,8,9])   #addign multiple elements\n",
    "print(s1)"
   ]
  },
  {
   "cell_type": "code",
   "execution_count": null,
   "metadata": {
    "colab": {
     "base_uri": "https://localhost:8080/"
    },
    "id": "xfBgSXBZFjmU",
    "outputId": "0dcd343d-d77a-408d-e079-1345bc1f9ea0"
   },
   "outputs": [
    {
     "name": "stdout",
     "output_type": "stream",
     "text": [
      "{1, 2, 3, 4, 5, 6, 8, 9, 17}\n",
      "{1, 2, 3, 4, 5, 6, 8, 9}\n",
      "{1, 2, 3, 4, 5, 6, 8, 9}\n",
      "{1, 3, 4, 5, 6, 8, 9}\n",
      "set()\n"
     ]
    }
   ],
   "source": [
    "#removing elements from the set\n",
    "print(s1)\n",
    "#discard func and remove fucntion\n",
    "s1.discard(17)\n",
    "print(s1)\n",
    "\n",
    "s1.discard(10)\n",
    "print(s1)\n",
    "\n",
    "\n",
    "s1.remove(2)    #cannot remove elements if not rpesent gives error\n",
    "print(s1)\n",
    "\n",
    "\n",
    "s1.clear()\n",
    "print(s1)"
   ]
  },
  {
   "cell_type": "code",
   "execution_count": null,
   "metadata": {
    "colab": {
     "base_uri": "https://localhost:8080/"
    },
    "id": "ETRSuElVG5--",
    "outputId": "d30ad76d-b3e7-4022-8bbb-e9be1f0de3bb"
   },
   "outputs": [
    {
     "name": "stdout",
     "output_type": "stream",
     "text": [
      "{0, 1, 2, 3, 4, 5, 12}\n"
     ]
    }
   ],
   "source": [
    "s1={1,3,4,2,5,12,0}   #set will also be sorted\n",
    "print(s1)"
   ]
  },
  {
   "cell_type": "code",
   "execution_count": null,
   "metadata": {
    "id": "v1fOvZhnHYG-"
   },
   "outputs": [],
   "source": [
    "#set operations\n",
    "\n",
    "a={1,2,3,4,5,6}\n",
    "b={4,5,6,7,8,9}\n",
    "\n"
   ]
  },
  {
   "cell_type": "code",
   "execution_count": null,
   "metadata": {
    "colab": {
     "base_uri": "https://localhost:8080/"
    },
    "id": "yohP2N4MHxN4",
    "outputId": "48bfe09c-e185-449c-dc89-d8f9ae9da8b1"
   },
   "outputs": [
    {
     "name": "stdout",
     "output_type": "stream",
     "text": [
      "{1, 2, 3, 4, 5, 6, 7, 8, 9}\n",
      "{1, 2, 3, 4, 5, 6, 7, 8, 9}\n",
      "{1, 2, 3, 4, 5, 6}\n",
      "{4, 5, 6}\n",
      "{4, 5, 6}\n",
      "{1, 2, 3}\n",
      "{8, 9, 7}\n",
      "{1, 2, 3}\n",
      "{8, 9, 7}\n"
     ]
    }
   ],
   "source": [
    "#set union\n",
    "print(a|b)   #pipe operator\n",
    "print(a.union(b))\n",
    "print(a)\n",
    "\n",
    "#intersection\n",
    "print(a&b)   #and operator\n",
    "print(a.intersection(b))\n",
    "\n",
    "#set differnce\n",
    "# a-a&b\n",
    "\n",
    "print(a-b)\n",
    "print(b-a)\n",
    "\n",
    "print(a.difference(b))\n",
    "print(b.difference(a))"
   ]
  },
  {
   "cell_type": "code",
   "execution_count": null,
   "metadata": {
    "colab": {
     "base_uri": "https://localhost:8080/"
    },
    "id": "ffQZD60GH0aH",
    "outputId": "6e100354-f371-473f-d5c5-308124ffb7a7"
   },
   "outputs": [
    {
     "name": "stdout",
     "output_type": "stream",
     "text": [
      "{1, 2, 3, 7, 8, 9}\n",
      "{1, 2, 3, 7, 8, 9}\n"
     ]
    }
   ],
   "source": [
    "#symetric differnce\n",
    "# a(union)b - a(intersection)b\n",
    "\n",
    "print(a^b)\n",
    "print(a.symmetric_difference(b))\n"
   ]
  },
  {
   "cell_type": "code",
   "execution_count": null,
   "metadata": {
    "id": "qo36353XIqOC"
   },
   "outputs": [],
   "source": []
  }
 ],
 "metadata": {
  "colab": {
   "provenance": []
  },
  "kernelspec": {
   "display_name": "Python 3 (ipykernel)",
   "language": "python",
   "name": "python3"
  },
  "language_info": {
   "codemirror_mode": {
    "name": "ipython",
    "version": 3
   },
   "file_extension": ".py",
   "mimetype": "text/x-python",
   "name": "python",
   "nbconvert_exporter": "python",
   "pygments_lexer": "ipython3",
   "version": "3.10.5"
  }
 },
 "nbformat": 4,
 "nbformat_minor": 1
}
